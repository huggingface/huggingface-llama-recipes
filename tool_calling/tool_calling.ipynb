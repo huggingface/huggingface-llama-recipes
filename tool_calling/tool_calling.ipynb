{
  "cells": [
    {
      "cell_type": "markdown",
      "metadata": {
        "id": "4ke2KYme3Iuq"
      },
      "source": [
        "# Tool Calling using Llama 3.2 🔧\n",
        "\n",
        "In this notebook, we'll explore the **tool-calling capabilities** of the **Llama 3.2 models**. Our goal is to show how the tool system works under the hood, so you have a clear understanding of its capabilities. For deployment options, you may want to consider [llama-stack-apps](https://github.com/meta-llama/llama-stack-apps) and [llama-stack](https://github.com/meta-llama/llama-stack). For more details about the model, you may also consider reviewing the official documentation for [tool calling with Llama 3.2](https://www.llama.com/docs/model-cards-and-prompt-formats/llama3_2#-tool-calling-(1b/3b)-).\n",
        "\n",
        "Let's get started! 🚀  \n",
        "\n",
        "\n",
        "\n",
        "\n"
      ]
    },
    {
      "cell_type": "markdown",
      "metadata": {
        "id": "Djxagjcldf32"
      },
      "source": [
        "## 1. Setup and Imports 🛠️  \n",
        "\n",
        "Before we dive in, let's start by installing the necessary dependencies to ensure our environment is ready for the tool-calling examples.\n"
      ]
    },
    {
      "cell_type": "code",
      "execution_count": null,
      "metadata": {
        "colab": {
          "base_uri": "https://localhost:8080/"
        },
        "id": "v8iDuJRH5u8b",
        "outputId": "4e0972f9-bc39-4f67-db75-87faae448052"
      },
      "outputs": [],
      "source": [
        "!pip install -q llama-stack"
      ]
    },
    {
      "cell_type": "markdown",
      "metadata": {
        "id": "I8NbB1RY4H5e"
      },
      "source": [
        "We'll login to **Hugging Face** since these models are gated. If you haven't requested access yet, make sure to do so and confirm that it has been granted.  \n",
        "\n",
        "For more details, refer to the [Model Card](https://huggingface.co/meta-llama/Llama-3.2-3B-Instruct)."
      ]
    },
    {
      "cell_type": "code",
      "execution_count": null,
      "metadata": {
        "id": "hN1lhibi30Er"
      },
      "outputs": [],
      "source": [
        "from huggingface_hub import notebook_login\n",
        "\n",
        "notebook_login()"
      ]
    },
    {
      "cell_type": "code",
      "execution_count": 3,
      "metadata": {
        "id": "a8BZfMLYdhbF"
      },
      "outputs": [],
      "source": [
        "from transformers import AutoTokenizer, AutoModelForCausalLM\n",
        "import torch"
      ]
    },
    {
      "cell_type": "markdown",
      "metadata": {
        "id": "Op3lUnaLmE-R"
      },
      "source": [
        "For our experiments, we'll use the base model **`meta-llama/Llama-3.2-3B-Instruct`** and demonstrate how to complete tool invocations.  \n",
        "\n",
        "The **Llama 3.2 family** includes a variety of models, each tailored for specific use cases. You can explore the entire collection in this [Llama 3.2 family collection](https://huggingface.co/collections/meta-llama/llama-32-66f448ffc8c32f949b04c8cf).  \n"
      ]
    },
    {
      "cell_type": "code",
      "execution_count": null,
      "metadata": {
        "colab": {
          "base_uri": "https://localhost:8080/",
          "height": 461,
          "referenced_widgets": [
            "6e6dddc76dda4c6697d46f37c274ffbb",
            "ce7dddc1c2a34b3cba734ad8f0292463",
            "4d5456dcd37249979c44193979b81b7f",
            "c320b24429444e71896459108c289df8",
            "82566ff3fac144359162223edbb6436f",
            "9f21c660e24f4b8f8e5f2dae4512741e",
            "4496d193928c44e8921651eedba53a3b",
            "bbbb1149ffce46c0ab07ee4db161d736",
            "5413cd2eda1442fe8c9f58ad447d92cd",
            "9255cf23ee3d4a2a862f767e2bb11af2",
            "71238f16ad7947d690c678f03d4201e5",
            "5417b7e9cf8f40bda415d7a71f5d72e7",
            "960111d0572d423f8374d76a8e62e223",
            "3f66a70ade1242958a7490a021f76712",
            "9333192082ff406eb253d2deab05f721",
            "f9c9f6610f944a7aa1e9e1457f95b234",
            "2ec3c54862324f4ab948667fcfca7b33",
            "cb5bbd4048af4ba78cbbc2c93f2044af",
            "9dbcf2a7ce494a6e8bfa5262c8a9fb68",
            "04cc2921df8b4f81990baaa4398a6d65",
            "48542da321984492bd50128cd82f883b",
            "752fa233add94904a9d36f2d4bf0318b",
            "ef21c326ec1e4117b6217f218ded6cfe",
            "42ac453f81374869a63aeb5551dfb366",
            "bec5c7365fee46f6bea3406203f080d4",
            "8be4c4a8e5944af3859e983f19ca3dec",
            "5b568d99d2eb48018a1e8f7b1c42d3af",
            "b6bde14832af4e35876bd28e1d9c0f8e",
            "5fd145e469204d508a1c48c9b5208407",
            "2de4427264ad4f48b2e02b8ec64584cd",
            "ea89241a405b4792912995d12cae957f",
            "5c21bd87e7fd43bdbad6650844739424",
            "34f02aa55be14481977eea55ecf1f1e7",
            "3b2a5412f69b426ab87f2bdd511f846a",
            "2c3675264c214a759521b58fbabb87c9",
            "4e81adb33206492cb4ecb9467d4f19ae",
            "762f75997e6f40d295faa6e43c556ca0",
            "cf1cbaace8d8432ca05fa2732a0aa5d0",
            "816a9911e8bb4878a05adbdebcd3f60f",
            "86f66b270db64a3cacbf7482b46130ad",
            "eef86b2f3fa748aab96efc77bdb990b2",
            "d8d6b81d21324d48a087437677694763",
            "b30f250cf63c419ab4a614e1627ff8b2",
            "143fe69d99c344579b0d281a7b31793b",
            "980d2eb8fc81443c836c11dc6dcee5b1",
            "a258102afb2046d0ace6f1c71d894c40",
            "08d45a6ace0f48a4813c6a2787b9b404",
            "1480ae658e97463b949438f70dd9da3e",
            "5450362f63d54def8ae9affe56eda273",
            "790a8136b091427c8f7d1c44770cfa6a",
            "a7df63d8960d4484af7a76e6c0c5e979",
            "68c560b8995149c5b399e74f91a8e4f5",
            "33541c17dc3d44f4a115210a701409b9",
            "4d12e7e737ad438eba5927b9f498351b",
            "d46e13dba4b74461afdf5b91fdf094d0",
            "0533c3f9c7384fad96bf19f10fbca6d9",
            "a26e790a1bf5471faed1c1bd4b97f369",
            "1eb24271d0124d86aefc705e6d94869a",
            "9cad1ec2dca541588b5af3a159f1b38e",
            "8518788f9dc24b83ab92b46a38882708",
            "815171f14a324fa6b13e18a100b02a8e",
            "f8ffd300b81449189f09b2459f161787",
            "e9b9b87c861b456b92fa085f44fe994c",
            "f26bbe3ae8a3497994b1957693a30506",
            "dc9634b817ed4fd8a2b68eacdb9b471a",
            "fdc0b10b45ff47dba930766d859e940b",
            "05042316b41a4ecabeeda69e972a053f",
            "c20d1efd46cf40f4ae6a6e39effc74c2",
            "2d5ccfd686554121b070eff992fb02da",
            "6936f605710c4ea6a909c9c5832054f8",
            "576adf1170f94f3f8801305fef8f982b",
            "dacc071099b443a78063cdb7dc1c4843",
            "8583f15a819f4b2ab5e8159c42c460b2",
            "5a500cbdfb174fc6b80973301cb4b690",
            "ba7246955b804d419423d451fd8539ca",
            "2115a9a634d24023a70cca458de6963d",
            "9e540be3f5954885ab5373be64a0cde2",
            "769ee7df586240c09b8634ab858817b2",
            "0891a99969244801946294471bf09a85",
            "496d4a4dab8d425ba86c0b19ef3b26ef",
            "e7bfa071923d4f5c8bad949edaf1ea50",
            "0c4f25b904a94227a21a6359bff86ce0",
            "80242711ae9e4aa399e69ccef28bc76f",
            "269773a44cb24578807756e64c9c828e",
            "319a0f8b53f7430fa55581248148f4c7",
            "b2bf5ef8440b4e70802455af92e20ad7",
            "24a3773614ca492f82167fba5fddd12e",
            "839e952175154904b2c759b0fa112107",
            "f89e2e0e2b9a4495afb64bf6c8883aaf",
            "0c0ec95879f04236ad2681ee3e67a852",
            "cbd1263566a64cc59ef5a07505ffcbaa",
            "20e9c1ce66874edbafff28bf6afc8daf",
            "af8880bba8c74f96995b38f0739bd4ac",
            "096965631e2c418e88b9f4be4b0a1fd4",
            "caf122e9a26440f089b5b81615eb3711",
            "cb0c82e82a0741bc93657aac4074765c",
            "f6c119f331494e3fad43f75c96859564",
            "c528b6ff71c14340a6ce600ef0f2c5e0",
            "2b77d89f39e64978b579eb4d95d260da",
            "a38b2d2fcc174edebab6b72b5c4e3967",
            "ac8b7eafa9724414b540f3fd346fd48b",
            "ccb29e9f01c241258be7185ebc3a3889",
            "45f4b0fac1fd430fbcfe0200813fa8d0",
            "6ccbfef71c844161bdc3e9fad5a4f65d",
            "2a2fd2a632b146f781bf6c47a325a58a",
            "0d18008bd6da4f22be3a74a4c9580d64",
            "c77188ba4bf54ed4b2bdf76459c2eba7",
            "6baa126adfe044d084c0afb73b078203",
            "b33a39aeb2ef4062b02cdbba87e6d914",
            "7511becad65c478b8284ccf13228968d"
          ]
        },
        "id": "YQcl647Ddu8M",
        "outputId": "005ae79f-d655-43b8-d2ff-15445194f7e2"
      },
      "outputs": [],
      "source": [
        "checkpoint = \"meta-llama/Llama-3.2-3B-Instruct\"\n",
        "model = AutoModelForCausalLM.from_pretrained(checkpoint, torch_dtype=torch.bfloat16, device_map=\"auto\")\n",
        "tokenizer = AutoTokenizer.from_pretrained(checkpoint)\n",
        "\n",
        "model = model.eval()"
      ]
    },
    {
      "cell_type": "markdown",
      "metadata": {
        "id": "VE-Ejy4vrQpI"
      },
      "source": [
        "We'll define a `generate` function to streamline our workflow. This function will handle model calls using a given prompt and return the model's response. We'll use it throughout the notebook for consistency and ease of use.  \n"
      ]
    },
    {
      "cell_type": "code",
      "execution_count": 5,
      "metadata": {
        "id": "aIeGRPdLhY54"
      },
      "outputs": [],
      "source": [
        "def generate(prompt, model, tokenizer):\n",
        "    inputs = tokenizer(\n",
        "        prompt,\n",
        "        return_tensors=\"pt\",\n",
        "    ).to(model.device)\n",
        "\n",
        "    with torch.no_grad():\n",
        "        outputs = model.generate(**inputs, max_new_tokens=150, do_sample=True)\n",
        "\n",
        "    result = outputs[0][inputs[\"input_ids\"].shape[-1]:]\n",
        "    return tokenizer.decode(result, skip_special_tokens=False)"
      ]
    },
    {
      "cell_type": "markdown",
      "metadata": {
        "id": "r7ySKAcCer_o"
      },
      "source": [
        "## 2. Custom Tool 🔧  \n",
        "\n",
        "For our first experiment, we'll create a custom tool that performs a simple task: adding two integer numbers.  \n",
        "\n",
        "We'll explore two possible ways of generating this behavior:\n",
        "\n",
        "1. Using a traditional string implementation\n",
        "2. Using a Chat Template\n"
      ]
    },
    {
      "cell_type": "markdown",
      "metadata": {
        "id": "-ktu6eZx-yDm"
      },
      "source": [
        "### 2.1 Using a Traditional String Implementation\n",
        "\n",
        "The addition tool can be represented as the following Python function:  \n"
      ]
    },
    {
      "cell_type": "code",
      "execution_count": 6,
      "metadata": {
        "id": "RBDvt95uetGL"
      },
      "outputs": [],
      "source": [
        "def add_two_integers(x: int, y: int):\n",
        "    \"\"\"\n",
        "    Adds two integer numerals\n",
        "\n",
        "    Args:\n",
        "        x: An integer\n",
        "        y: An integer\n",
        "    \"\"\"\n",
        "    return x + y"
      ]
    },
    {
      "cell_type": "markdown",
      "metadata": {
        "id": "q1b0rp9erys8"
      },
      "source": [
        "Below, we define the `system_prompt`.  \n",
        "\n",
        "The system prompt for tool calling is made up of two key components:  \n",
        "1. **`prior_system_instruction`**: This is the default foundational prompt. It describes the tool-calling functionality and outlines its workflow. If you examine it closely, you'll notice how it provides a clear explanation of how tools are integrated and utilized.  \n",
        "2. **Custom tools in JSON format**: This is a list of tools the model can access and call (e.g., the `add_two_integers` function in our example).  \n",
        "\n",
        "These two parts are combined to form the complete `system_prompt`.  \n"
      ]
    },
    {
      "cell_type": "code",
      "execution_count": 86,
      "metadata": {
        "id": "AkrvSCt5boPV"
      },
      "outputs": [],
      "source": [
        "prior_system_instruction = \"\"\"\\\n",
        "<|start_header_id|>system<|end_header_id|>\n",
        "\n",
        "You are an expert in composing functions. You are given a question and a set of possible functions.\n",
        "Based on the question, you will need to make one or more function/tool calls to achieve the purpose.\n",
        "If none of the function can be used, point it out. If the given question lacks the parameters required by the function,\n",
        "also point it out. You should only return the function call in tools call sections.\n",
        "\n",
        "If you decide to invoke any of the function(s), you MUST put it in the format of [func_name1(params_name1=params_value1, params_name2=params_value2...), func_name2(params)]\n",
        "You SHOULD NOT include any other text in the response.\n",
        "\n",
        "Here is a list of functions in JSON format that you can invoke.\"\"\"\n",
        "\n",
        "custom_tool = \"\"\"\\\n",
        "[\n",
        "    {\n",
        "        \"name\": \"add_two_integers\",\n",
        "        \"description\": \"Adds two integer numerals\",\n",
        "        \"parameters\": {\n",
        "            \"type\": \"dict\",\n",
        "            \"required\": [\"x\", \"y\"],\n",
        "            \"properties\": {\n",
        "                \"x\": {\n",
        "                    \"type\": \"integer\",\n",
        "                    \"description\": \"An integer\"\n",
        "                },\n",
        "                \"y\": {\n",
        "                    \"type\": \"integer\",\n",
        "                    \"description\": \"An integer\"\n",
        "                },\n",
        "            }\n",
        "        }\n",
        "    }\n",
        "]\"\"\"\n",
        "\n",
        "\n",
        "system_prompt = f\"{prior_system_instruction}{custom_tool}<|eot_id|><|start_header_id|>user<|end_header_id|>\\n\\n\""
      ]
    },
    {
      "cell_type": "markdown",
      "metadata": {
        "id": "r15uZKb5shqz"
      },
      "source": [
        "Next, we'll define the `user_prompt`, which simulates the user's input during their turn in the interaction. This prompt represents what the user would say or request, guiding the model to generate appropriate responses or perform specific actions using the defined tools.  \n"
      ]
    },
    {
      "cell_type": "code",
      "execution_count": 87,
      "metadata": {
        "id": "qUE5AAahfJOc"
      },
      "outputs": [],
      "source": [
        "user_prompt = \"What is the result of 12322 added to 1242453\"\n",
        "\n",
        "prompt = f\"{system_prompt}{user_prompt}<|eot_id|><|start_header_id|>assistant<|end_header_id|>\\n\\n\""
      ]
    },
    {
      "cell_type": "markdown",
      "metadata": {
        "id": "bnJSJco2nlN3"
      },
      "source": [
        "Now, let's take a look at how the final prompt is structured, and generate the model's response based on it.  \n"
      ]
    },
    {
      "cell_type": "code",
      "execution_count": 88,
      "metadata": {
        "colab": {
          "base_uri": "https://localhost:8080/"
        },
        "id": "yndeUiJVbitb",
        "outputId": "8c6b0e01-cbb3-4ac4-9ff7-e317680b493e"
      },
      "outputs": [
        {
          "name": "stdout",
          "output_type": "stream",
          "text": [
            "<|start_header_id|>system<|end_header_id|>\n",
            "\n",
            "You are an expert in composing functions. You are given a question and a set of possible functions.\n",
            "Based on the question, you will need to make one or more function/tool calls to achieve the purpose.\n",
            "If none of the function can be used, point it out. If the given question lacks the parameters required by the function,\n",
            "also point it out. You should only return the function call in tools call sections.\n",
            "\n",
            "If you decide to invoke any of the function(s), you MUST put it in the format of [func_name1(params_name1=params_value1, params_name2=params_value2...), func_name2(params)]\n",
            "You SHOULD NOT include any other text in the response.\n",
            "\n",
            "Here is a list of functions in JSON format that you can invoke.[\n",
            "    {\n",
            "        \"name\": \"add_two_integers\",\n",
            "        \"description\": \"Adds two integer numerals\",\n",
            "        \"parameters\": {\n",
            "            \"type\": \"dict\",\n",
            "            \"required\": [\"x\", \"y\"],\n",
            "            \"properties\": {\n",
            "                \"x\": {\n",
            "                    \"type\": \"integer\",\n",
            "                    \"description\": \"An integer\"\n",
            "                },\n",
            "                \"y\": {\n",
            "                    \"type\": \"integer\",\n",
            "                    \"description\": \"An integer\"\n",
            "                },\n",
            "            }\n",
            "        }\n",
            "    }\n",
            "]<|eot_id|><|start_header_id|>user<|end_header_id|>\n",
            "\n",
            "What is the result of 12322 added to 1242453<|eot_id|><|start_header_id|>assistant<|end_header_id|>\n",
            "\n",
            "\n"
          ]
        }
      ],
      "source": [
        "print(prompt)"
      ]
    },
    {
      "cell_type": "markdown",
      "metadata": {
        "id": "LwdSKBtn8yHl"
      },
      "source": [
        "As you can see, the different special tokens (`<|eot_id|>`, `<|start_header_id|>`, etc.) indicate the turns in the conversation and help manage the workflow.\n",
        "\n",
        "Now, let's use this prompt as input to the model and check if it correctly understands that the tool needs to be called.  \n"
      ]
    },
    {
      "cell_type": "code",
      "execution_count": 89,
      "metadata": {
        "colab": {
          "base_uri": "https://localhost:8080/"
        },
        "id": "rJDbD2aabR9-",
        "outputId": "2aa79998-e352-4998-afdc-494aa8080db6"
      },
      "outputs": [
        {
          "name": "stderr",
          "output_type": "stream",
          "text": [
            "Setting `pad_token_id` to `eos_token_id`:None for open-end generation.\n"
          ]
        },
        {
          "name": "stdout",
          "output_type": "stream",
          "text": [
            "[add_two_integers(x=12322, y=1242453)]<|eot_id|>\n"
          ]
        }
      ],
      "source": [
        "model_tool_call_response = generate(prompt, model, tokenizer)\n",
        "print(model_tool_call_response)"
      ]
    },
    {
      "cell_type": "markdown",
      "metadata": {
        "id": "6tcFB5jsnwjZ"
      },
      "source": [
        "As we can see, the model correctly understood the task and suggested a call to the custom tool, following the format we previously defined.  \n",
        "\n",
        "However, it's important to note that this is not the final response from the model. Tool calling occurs automatically, without any direct intervention from the user.  \n",
        "\n",
        "In a chat service, for example, we'd display a progress indicator and possibly a message indicating that additional information is being retrieved (e.g., browsing the web). The user would not see the raw response from `add_two_integers` directly.  \n",
        "\n",
        "What follows is the code required to complete the query and provide the final response. If you're interested in the underlying architecture, there's a helpful diagram illustrating it [here](https://www.llama.com/docs/model-cards-and-prompt-formats/llama3_1/#-tool-calling-(8b/70b/405b)-).  \n",
        "\n",
        "\n",
        "\n"
      ]
    },
    {
      "cell_type": "markdown",
      "metadata": {
        "id": "_dygOg6lihHR"
      },
      "source": [
        "#### Call to the Tool  \n",
        "\n",
        "To complete the query, we'll invoke the tool to perform the operation and add the result back to the prompt. This step involves calling our previously defined function to execute the addition.  \n",
        "\n",
        "It's important to note that this process is managed outside of the model, handled by a **code executor**. The model generates the method signature, but we need to execute the actual call externally to complete the operation.  \n",
        "\n"
      ]
    },
    {
      "cell_type": "code",
      "execution_count": 90,
      "metadata": {
        "colab": {
          "base_uri": "https://localhost:8080/"
        },
        "id": "J_2W6Oqtiigt",
        "outputId": "ab55cd33-6e9a-459c-b168-80df740923ba"
      },
      "outputs": [
        {
          "name": "stdout",
          "output_type": "stream",
          "text": [
            "1254775\n"
          ]
        }
      ],
      "source": [
        "tool_call_response = str(add_two_integers(x=12322, y=1242453))\n",
        "print(tool_call_response)"
      ]
    },
    {
      "cell_type": "markdown",
      "metadata": {
        "id": "LIZJwcLMim0A"
      },
      "source": [
        "#### Add Everything to the Main Prompt  \n",
        "\n",
        "Now that we have the result, we can combine all the components into the complete prompt for the final output. This includes:  \n",
        "- The **initial system prompt**  \n",
        "- The **user input**  \n",
        "- The **tool's response**  \n",
        "\n",
        "These elements together form the full interaction for the model.  \n",
        "\n",
        "It's worth noting that the `<|python_tag|>` token is simply a convention chosen to indicate that a tool call invocation is required. It doesn't strictly mean the tool must be executed in Python. We're free to use any mechanism to invoke the tool, as long as it processes the function and returns the response in the format expected by the model.  \n",
        "\n",
        "Additionally, we include the `<|start_header_id|>ipython<|end_header_id|>` token just before the tool call response to signal its context appropriately.  \n",
        "\n",
        "\n"
      ]
    },
    {
      "cell_type": "code",
      "execution_count": 91,
      "metadata": {
        "colab": {
          "base_uri": "https://localhost:8080/"
        },
        "id": "XYk5JNrSh41q",
        "outputId": "bbfa1b99-6fb4-4c38-828a-cffefdafa2fe"
      },
      "outputs": [
        {
          "name": "stdout",
          "output_type": "stream",
          "text": [
            "<|start_header_id|>system<|end_header_id|>\n",
            "\n",
            "You are an expert in composing functions. You are given a question and a set of possible functions.\n",
            "Based on the question, you will need to make one or more function/tool calls to achieve the purpose.\n",
            "If none of the function can be used, point it out. If the given question lacks the parameters required by the function,\n",
            "also point it out. You should only return the function call in tools call sections.\n",
            "\n",
            "If you decide to invoke any of the function(s), you MUST put it in the format of [func_name1(params_name1=params_value1, params_name2=params_value2...), func_name2(params)]\n",
            "You SHOULD NOT include any other text in the response.\n",
            "\n",
            "Here is a list of functions in JSON format that you can invoke.[\n",
            "    {\n",
            "        \"name\": \"add_two_integers\",\n",
            "        \"description\": \"Adds two integer numerals\",\n",
            "        \"parameters\": {\n",
            "            \"type\": \"dict\",\n",
            "            \"required\": [\"x\", \"y\"],\n",
            "            \"properties\": {\n",
            "                \"x\": {\n",
            "                    \"type\": \"integer\",\n",
            "                    \"description\": \"An integer\"\n",
            "                },\n",
            "                \"y\": {\n",
            "                    \"type\": \"integer\",\n",
            "                    \"description\": \"An integer\"\n",
            "                },\n",
            "            }\n",
            "        }\n",
            "    }\n",
            "]<|eot_id|><|start_header_id|>user<|end_header_id|>\n",
            "\n",
            "What is the result of 12322 added to 1242453<|eot_id|><|start_header_id|>assistant<|end_header_id|>\n",
            "\n",
            "<|python_tag|>[add_two_integers(x=12322, y=1242453)]<|eot_id|><|start_header_id|>ipython<|end_header_id|>\n",
            "\n",
            "\"1254775\"<|eot_id|><|start_header_id|>assistant<|end_header_id|>\n",
            "\n",
            "\n"
          ]
        }
      ],
      "source": [
        "prompt = f\"{prompt}<|python_tag|>{model_tool_call_response}<|start_header_id|>ipython<|end_header_id|>\\n\\n\"\n",
        "\n",
        "prompt = prompt + f'\"{tool_call_response}\"<|eot_id|><|start_header_id|>assistant<|end_header_id|>\\n\\n'\n",
        "print(prompt)"
      ]
    },
    {
      "cell_type": "markdown",
      "metadata": {
        "id": "lqYqMUx7oaSe"
      },
      "source": [
        "Finally, we'll call the model again using the complete prompt to see how it performs! This step combines all the elements into a single input, allowing the model to generate its final output.  \n",
        "\n",
        "The results, excluding the `<|eot_id|>` token, would represent the actual response provided to the user in a real application scenario. This ensures a seamless experience where the tool's execution is invisible to the end user, and only the refined answer is displayed.  \n"
      ]
    },
    {
      "cell_type": "code",
      "execution_count": 93,
      "metadata": {
        "colab": {
          "base_uri": "https://localhost:8080/"
        },
        "id": "kUlt_VmUirMh",
        "outputId": "54b30037-3a7f-4ece-d9f1-5a0d33b9a3ca"
      },
      "outputs": [
        {
          "name": "stderr",
          "output_type": "stream",
          "text": [
            "Setting `pad_token_id` to `eos_token_id`:None for open-end generation.\n"
          ]
        },
        {
          "name": "stdout",
          "output_type": "stream",
          "text": [
            "The result of adding 12322 to 1242453 is 1254775.<|eot_id|>\n"
          ]
        }
      ],
      "source": [
        "print(generate(prompt, model, tokenizer))"
      ]
    },
    {
      "cell_type": "markdown",
      "metadata": {
        "id": "RwWrV_-Qo7ks"
      },
      "source": [
        "In addition to this format, where we define the functions in the `system_prompt`, you can also include the function definitions and query in the `user_prompt` directly. You can find more information about how to do it [here](https://www.llama.com/docs/model-cards-and-prompt-formats/llama3_2/#-function-definitions-and-query-in-the-user-prompt-)."
      ]
    },
    {
      "cell_type": "markdown",
      "metadata": {
        "id": "VtDiX7s0q0aM"
      },
      "source": [
        "### 2.2 Using a Chat Template  \n",
        "\n",
        "The traditional string implementation, while functional, is more prone to errors since we must carefully manage tokens, line breaks, and formatting. To simplify this process, we can use a **chat template**. This approach integrates the interactions seamlessly, making it easier to build applications without worrying about the underlying tokenization structure.  \n",
        "\n",
        "You can find more information about chat templates [here](https://huggingface.co/docs/transformers/main/chat_templating).  \n",
        "\n",
        "In the following example, we'll demonstrate how to replicate the same behavior as before using the `chat_template` functionality. The code cell below represents the chat structure we need to interact with the model, implemented as a Jinja template. While it may seem complex initially, the final result is identical to what we achieved with the traditional approach.  \n",
        "\n",
        "🧑‍🏫️ Let's dive in and see it in action!  \n",
        "\n"
      ]
    },
    {
      "cell_type": "code",
      "execution_count": 121,
      "metadata": {
        "id": "wIF-XpmLq1kf"
      },
      "outputs": [],
      "source": [
        "chat_template=\"\"\"\\\n",
        "{{- bos_token }}\n",
        "{%- if custom_tools is defined %}\n",
        "    {%- set tools = custom_tools %}\n",
        "{%- endif %}\n",
        "{%- if not tools_in_user_message is defined %}\n",
        "    {%- set tools_in_user_message = false %}\n",
        "{%- endif %}\n",
        "{%- if not date_string is defined %}\n",
        "    {%- if strftime_now is defined %}\n",
        "        {%- set date_string = strftime_now(\"%d %b %Y\") %}\n",
        "    {%- else %}\n",
        "        {%- set date_string = \"24 September 2024\" %}\n",
        "    {%- endif %}\n",
        "{%- endif %}\n",
        "{%- if not tools is defined %}\n",
        "    {%- set tools = none %}\n",
        "{%- endif %}\n",
        "\n",
        "{#- This block extracts the system message, so we can slot it into the right place. #}\n",
        "{%- if messages[0]['role'] == 'system' %}\n",
        "    {%- set system_message = messages[0]['content']|trim %}\n",
        "    {%- set messages = messages[1:] %}\n",
        "{%- else %}\n",
        "    {%- set system_message = \"\" %}\n",
        "{%- endif %}\n",
        "\n",
        "{#- System message + environment setup (modified for 3.2) #}\n",
        "{{- \"<|start_header_id|>system<|end_header_id|>\\n\\n\" }}\n",
        "{%- if tools is not none %}\n",
        "    {{- \"You are an expert in composing functions. You are given a question and a set of possible functions.\\n\" }}\n",
        "    {{- \"Based on the question, you will need to make one or more function/tool calls to achieve the purpose.\\n\" }}\n",
        "    {{- \"If none of the function can be used, point it out. If the given question lacks the parameters required by the function,\\n\" }}\n",
        "    {{- \"also point it out. You should only return the function call in tools call sections.\\n\\n\" }}\n",
        "    {{- \"If you decide to invoke any of the function(s), you MUST put it in the format of [func_name1(params_name1=params_value1, params_name2=params_value2...), func_name2(params)]\\n\" }}\n",
        "    {{- \"You SHOULD NOT include any other text in the response.\\n\\n\" }}\n",
        "    {{- \"Here is a list of functions in JSON format that you can invoke.[\\n\" }}\n",
        "    {%- for t in tools %}\n",
        "        {%- set tool_json = t['function'] | tojson(indent=4) %}\n",
        "        {{- \"    \" + tool_json | replace('\\n', '\\n    ') }}\n",
        "        {{- \",\\n\" if not loop.last else \"\\n\" }}\n",
        "    {%- endfor %}\n",
        "    {{- \"]\" }}\n",
        "{%- elif builtin_tools is defined %}\n",
        "    {{- \"Environment: ipython\\n\" }}\n",
        "    {{- \"Tools: \" + builtin_tools | reject('equalto', 'code_interpreter') | join(\", \") }}\n",
        "    {{- \"Cutting Knowledge Date: December 2023\\n\" }}\n",
        "    {{- \"Today Date: \" + date_string + \"\\n\\n\" }}\n",
        "{%- endif %}\n",
        "{{- system_message }}\n",
        "{{- \"<|eot_id|>\" }}\n",
        "\n",
        "{#- Custom tools passed in a user message (modified for consistency with 3.2) #}\n",
        "{%- if tools_in_user_message and tools is not none %}\n",
        "    {#- Extract the first user message to include tools if necessary #}\n",
        "    {%- if messages | length != 0 %}\n",
        "        {%- set first_user_message = messages[0]['content']|trim %}\n",
        "        {%- set messages = messages[1:] %}\n",
        "    {%- else %}\n",
        "        {{- raise_exception(\"Cannot put tools in the first user message when there's no first user message!\") }}\n",
        "    {%- endif %}\n",
        "    {{- \"<|start_header_id|>user<|end_header_id|>\\n\\n\" }}\n",
        "    {{- \"You are an expert in composing functions. You are given a question and a set of possible functions.\\n\" }}\n",
        "    {{- \"Based on the question, you will need to make one or more function/tool calls to achieve the purpose.\\n\" }}\n",
        "    {{- \"If none of the functions can be used, point it out. If the given question lacks the parameters required by the function,\" }}\n",
        "    {{- \"also point it out. You should only return the function call in the tools call sections.\\n\\n\" }}\n",
        "    {{- \"If you decide to invoke any of the function(s), you MUST put it in the format of [func_name1(params_name1=params_value1, params_name2=params_value2...), func_name2(params)]\\n\" }}\n",
        "    {{- \"You SHOULD NOT include any other text in the response.\\n\\n\" }}\n",
        "    {{- \"Here is a list of functions in JSON format that you can invoke.\" }}\n",
        "    {{- \"[\\n\" }}\n",
        "    {%- for t in tools %}\n",
        "        {%- set tool_json = t['function'] | tojson(indent=4) %}\n",
        "        {{- \"    \" + tool_json | replace('\\n', '\\n    ') }}\n",
        "        {{- \",\\n\" if not loop.last else \"\\n\" }}\n",
        "    {%- endfor %}\n",
        "    {{- \"]\\n\" }}\n",
        "    {{- first_user_message + \"<|eot_id|>\"}}\n",
        "{%- endif %}\n",
        "\n",
        "{#- Loop through messages to handle user, assistant, and tool interactions -#}\n",
        "{%- for message in messages %}\n",
        "    {%- if message.role == 'user' %}\n",
        "        {{- '<|start_header_id|>user<|end_header_id|>\\n\\n' + message['content'] | trim + '<|eot_id|>' }}\n",
        "    {%- elif message.role == 'assistant' and 'tool_calls' in message %}\n",
        "        {#- Handle zero-shot tool calls (modified for 3.2) #}\n",
        "        {{- '<|start_header_id|>assistant<|end_header_id|>\\n\\n' }}\n",
        "        {%- for tool_call in message.tool_calls %}\n",
        "            {{- '<|python_tag|>[' + tool_call.function.name + '(' }}\n",
        "            {%- for arg_name, arg_val in tool_call.function.arguments.items() %}\n",
        "                {{- arg_name + '=' + arg_val}}\n",
        "                {%- if not loop.last %}\n",
        "                    {{- \", \" }}\n",
        "                {%- endif %}\n",
        "            {%- endfor %}\n",
        "            {{- ')]' }}\n",
        "        {%- endfor %}\n",
        "        {{- '<|eot_id|>' }}\n",
        "    {%- elif message.role == 'assistant' %}\n",
        "        {{- '<|start_header_id|>assistant<|end_header_id|>\\n\\n' + message['content'] | trim + '<|eot_id|>' }}\n",
        "    {%- elif message.role == 'tool' %}\n",
        "        {#- Modified for 3.2 #}\n",
        "        {{- \"<|start_header_id|>ipython<|end_header_id|>\\n\\n\" }}\n",
        "        {%- if message.content is mapping or message.content is iterable %}\n",
        "            {{- message.content | tojson }}\n",
        "        {%- else %}\n",
        "            {{- message.content }}\n",
        "        {%- endif %}\n",
        "        {{- \"<|eot_id|>\" }}\n",
        "    {%- elif message.role == 'code' %}\n",
        "        {#- Code interpreter handling (maintained from 3.1) #}\n",
        "        {{- \"<|python_tag|>\" + message['content'] | trim + \"<|eom_id|>\" }}\n",
        "    {%- endif %}\n",
        "{%- endfor %}\n",
        "\n",
        "{#- Add the prompt for generation if specified -#}\n",
        "{%- if add_generation_prompt %}\n",
        "    {{- '<|start_header_id|>assistant<|end_header_id|>\\n\\n' }}\n",
        "{%- endif %}\\\n",
        "\"\"\""
      ]
    },
    {
      "cell_type": "markdown",
      "metadata": {
        "id": "y3GJ1hLtvTPI"
      },
      "source": [
        "We can now pass this **chat template** to the tokenizer, which will simplify the process of generating responses and make the coding experience much smoother. By leveraging the template structure, the tokenizer will handle the intricacies of tokenization and formatting for us, allowing us to focus on building the functionality of our application rather than dealing with low-level details.\n",
        "\n",
        "This streamlined approach is especially useful when integrating complex interactions with language models. Let's see how we can implement it next! 🚀\n"
      ]
    },
    {
      "cell_type": "code",
      "execution_count": 122,
      "metadata": {
        "id": "7Q4wuBlWrC-t"
      },
      "outputs": [],
      "source": [
        "tokenizer.chat_template = chat_template"
      ]
    },
    {
      "cell_type": "markdown",
      "metadata": {
        "id": "GnV15_pAvchv"
      },
      "source": [
        "Now, let's generate the **prompt for our conversation**. As we can see, using **chat templates** makes the coding process more efficient and streamlined. The underlying prompt remains unchanged, but the template simplifies the integration and execution, making it easier to work with.\n",
        "\n",
        "By leveraging the template, we avoid manually managing the structure and tokens, which reduces the chances of errors and makes the whole process more flexible. Let's take a look at how it works in practice! ✨\n",
        "\n"
      ]
    },
    {
      "cell_type": "code",
      "execution_count": 110,
      "metadata": {
        "colab": {
          "base_uri": "https://localhost:8080/"
        },
        "id": "jp2K3OO9rJDM",
        "outputId": "9ffd86ec-4741-4c50-c854-d3e0b0f007eb"
      },
      "outputs": [
        {
          "name": "stdout",
          "output_type": "stream",
          "text": [
            "<|begin_of_text|><|start_header_id|>system<|end_header_id|>\n",
            "\n",
            "You are an expert in composing functions. You are given a question and a set of possible functions.\n",
            "Based on the question, you will need to make one or more function/tool calls to achieve the purpose.\n",
            "If none of the function can be used, point it out. If the given question lacks the parameters required by the function,\n",
            "also point it out. You should only return the function call in tools call sections.\n",
            "\n",
            "If you decide to invoke any of the function(s), you MUST put it in the format of [func_name1(params_name1=params_value1, params_name2=params_value2...), func_name2(params)]\n",
            "You SHOULD NOT include any other text in the response.\n",
            "\n",
            "Here is a list of functions in JSON format that you can invoke.[\n",
            "    {\n",
            "        \"name\": \"add_two_integers\",\n",
            "        \"description\": \"Adds two integer numerals\",\n",
            "        \"parameters\": {\n",
            "            \"type\": \"dict\",\n",
            "            \"properties\": {\n",
            "                \"x\": {\n",
            "                    \"type\": \"integer\",\n",
            "                    \"description\": \"An integer\"\n",
            "                },\n",
            "                \"y\": {\n",
            "                    \"type\": \"integer\",\n",
            "                    \"description\": \"An integer\"\n",
            "                }\n",
            "            },\n",
            "            \"required\": [\n",
            "                \"x\",\n",
            "                \"y\"\n",
            "            ]\n",
            "        }\n",
            "    }\n",
            "]<|eot_id|><|start_header_id|>user<|end_header_id|>\n",
            "\n",
            "What is the result of 12322 added to 1242453<|eot_id|><|start_header_id|>assistant<|end_header_id|>\n",
            "\n",
            "<|python_tag|>[add_two_integers(x=12322, y=1242453)]<|eot_id|><|start_header_id|>ipython<|end_header_id|>\n",
            "\n",
            "\"1254775\"<|eot_id|><|start_header_id|>assistant<|end_header_id|>\n",
            "\n",
            "\n"
          ]
        }
      ],
      "source": [
        "messages = [\n",
        "    {\"role\": \"user\", \"content\": \"What is the result of 12322 added to 1242453\"},\n",
        "    {\"role\": \"assistant\", \"tool_calls\": [{\"type\": \"function\", \"function\": {\"name\": \"add_two_integers\", \"arguments\": {\"x\": \"12322\", \"y\": \"1242453\"}}}]},\n",
        "    {\"role\": \"tool\", \"name\": \"add_two_integers\", \"content\": \"1254775\"},\n",
        "]\n",
        "\n",
        "prompt = tokenizer.apply_chat_template(\n",
        "    messages,\n",
        "    tools=[add_two_integers],\n",
        "    tokenize=False,\n",
        "    add_generation_prompt=True,\n",
        ")\n",
        "\n",
        "\n",
        "prompt = prompt.replace(\"object\", \"dict\")\n",
        "print(prompt)"
      ]
    },
    {
      "cell_type": "markdown",
      "metadata": {
        "id": "85kKMeHXvu2Z"
      },
      "source": [
        "Now, let's generate the final answer! This will be the model's complete response, incorporating all the steps and tools we've defined throughout the process.  "
      ]
    },
    {
      "cell_type": "code",
      "execution_count": 111,
      "metadata": {
        "colab": {
          "base_uri": "https://localhost:8080/"
        },
        "id": "3wfgmCpSrKZ-",
        "outputId": "0e53a96d-2fc2-4658-e34c-68d80e33d587"
      },
      "outputs": [
        {
          "name": "stderr",
          "output_type": "stream",
          "text": [
            "Setting `pad_token_id` to `eos_token_id`:None for open-end generation.\n"
          ]
        },
        {
          "name": "stdout",
          "output_type": "stream",
          "text": [
            "The result of adding 12322 and 1242453 is 1254775.<|eot_id|>\n"
          ]
        }
      ],
      "source": [
        "print(generate(prompt, model, tokenizer))"
      ]
    },
    {
      "cell_type": "markdown",
      "metadata": {
        "id": "ZvWBK8iT4uAs"
      },
      "source": [
        "## 3. Web Search Custom Tool 🌐  \n",
        "\n",
        "In the previous example, we explored basic tool calling capabilities. Now, let's take it a step further and add a **web search** custom tool to the model.  \n",
        "\n",
        "As the [documentation](https://www.llama.com/docs/model-cards-and-prompt-formats/llama3_2#-tool-calling-(1b/3b)\\-) mentions:  \n",
        "\n",
        "> **Note**: Unlike the larger Llama 3.1 models (8B/70B/405B), the lightweight models do not support built-in tools like Brave Search and Wolfram.  \n",
        "\n",
        "The previous version of the Llama model included some support for built-in tools, such as Brave Search, for searching the web with a given query. Although the model doesn't come with these capabilities by default, let's see if we can integrate a web search tool and extend its functionality.  \n",
        "\n",
        "We will use the `BraveSearch` functionality directly implemented in `llama_stack`. It includes everything we need to make the query, so we will use it for simplicity and seamless integration.  \n"
      ]
    },
    {
      "cell_type": "code",
      "execution_count": 15,
      "metadata": {
        "id": "WaRcpLYx4uYd"
      },
      "outputs": [],
      "source": [
        "from llama_stack.providers.inline.agents.meta_reference.tools.builtin import BraveSearch"
      ]
    },
    {
      "cell_type": "markdown",
      "metadata": {
        "id": "cqCilfaD7SiE"
      },
      "source": [
        "The **Brave search tool** requires an API key to function. You can sign up for a free subscription (credit card required) [here](https://api.search.brave.com/register). It has a rate limit of 1 query per second, which is sufficient for development.\n",
        "\n",
        "**Important:** Never write your API key directly in the source code, as this is highly insecure. Instead, we will use **Google Colab secrets** to store the key safely. If you're running the notebook locally, you can store the key in an environment variable for secure access.  \n"
      ]
    },
    {
      "cell_type": "code",
      "execution_count": 16,
      "metadata": {
        "id": "ydxxTiv459rG"
      },
      "outputs": [],
      "source": [
        "from google.colab import userdata\n",
        "brave = BraveSearch(userdata.get('BRAVE_API_KEY'))"
      ]
    },
    {
      "cell_type": "markdown",
      "metadata": {
        "id": "QDpPW4-Sxdxa"
      },
      "source": [
        "The API to run the tool can be found [here](https://github.com/meta-llama/llama-stack/blob/main/llama_stack/providers/inline/agents/meta_reference/tools/builtin.py).  \n",
        "\n",
        "To perform the web search, we'll invoke the `brave.search` function, which is part of the Brave search tool integration.  \n",
        "\n",
        "Let's see an example:"
      ]
    },
    {
      "cell_type": "code",
      "execution_count": 99,
      "metadata": {
        "colab": {
          "base_uri": "https://localhost:8080/",
          "height": 139
        },
        "id": "5TQvvWXQxS3Q",
        "outputId": "49181945-dc5b-4a1f-bd3a-3e5a56cc8260"
      },
      "outputs": [
        {
          "data": {
            "application/vnd.google.colaboratory.intrinsic+json": {
              "type": "string"
            },
            "text/plain": [
              "'{\"query\": \"San Francisco weather\", \"top_k\": [{\"title\": \"10-Day Weather Forecast for San Francisco, CA - The Weather Channel | weather.com\", \"url\": \"https://weather.com/weather/tenday/l/San+Francisco+CA+USCA0987:1:US\", \"description\": \"Be prepared with the most accurate 10-day forecast for <strong>San</strong> <strong>Francisco</strong>, CA with highs, lows, chance of precipitation from The <strong>Weather</strong> Channel and <strong>Weather</strong>.com\", \"type\": \"search_result\"}, {\"title\": \"San Francisco, CA Weather Forecast | AccuWeather\", \"url\": \"https://www.accuweather.com/en/us/san-francisco/94103/weather-forecast/347629\", \"description\": \"<strong>San</strong> <strong>Francisco</strong>, CA <strong>Weather</strong> Forecast, with current conditions, wind, air quality, and what to expect for the next 3 days.\", \"type\": \"search_result\"}, [{\"title\": \"Monday morning First Alert Weather forecast 11/25/24 - CBS San Francisco\", \"url\": \"https://www.cbsnews.com/sanfrancisco/video/monday-morning-first-alert-weather-forecast-112524/\", \"description\": \"Meteorologist Jessica Burch has a look at rain totals around the Bay Area and how long the wet <strong>weather</strong> will last.\"}, {\"title\": \"Flooded S.F. businesses assess damage from deluge\", \"url\": \"http://www.sfchronicle.com/weather/article/sf-flooding-businesses-19938377.php\", \"description\": \"After shutting their doors during Friday\\\\u2019s intense rainfall and flooding, many reopened Saturday to dry out and take stock.\"}, {\"title\": \"San Francisco weather: Here\\'s how much it rained the last 7 days in the Bay Area | KTVU FOX 2\", \"url\": \"https://www.ktvu.com/news/san-francisco-weather-heres-how-much-rained-last-7-days-bay-area\", \"description\": \"As the rain resumed on Monday, Bay Area residents might be trying to tally just how much precipitation has collected over the last seven days.\"}, {\"title\": \"Flash flood warning in San Francisco \\\\u2013 NBC Bay Area\", \"url\": \"https://www.nbcbayarea.com/news/local/san-francisco/flash-flood-warning-2/3717801/\", \"description\": \"The National <strong>Weather</strong> Service has issued a flash flood warning in <strong>San</strong> <strong>Francisco</strong> until 3:45 p.m. Friday.\"}, {\"title\": \"Northern California Atmospheric River: Storm impact to become more widespread across Bay Area - ABC7 San Francisco\", \"url\": \"https://abc7news.com/post/northern-california-atmospheric-river-storm-impact-become-more-widespread-bay-area/15573423/\", \"description\": \"An atmospheric river is bringing heavy rain, flood risks, and strong winds to Northern California.\"}, {\"title\": \"SF hit with \\'rare\\' flash flood warning amid Calif. atmospheric river\", \"url\": \"https://www.sfgate.com/weather/article/entire-city-sf-now-life-threatening-flash-flood-19937062.php\", \"description\": \"An emergency phone alert went out to residents in <strong>San</strong> <strong>Francisco</strong> County, warning the public of \\\\u201clife-threatening\\\\u201d flash flooding. The warning was issued by the National <strong>Weather</strong> Service just before 1 p.m. Friday and is in effect until 3:45 p.m.\"}, {\"title\": \"California Storm Brings Record Rain and Flooding to San Francisco Bay Area - The New York Times\", \"url\": \"https://www.nytimes.com/2024/11/22/weather/california-storm-floods.html\", \"description\": \"Heavy winds forced about 450 flight ... noon at <strong>San</strong> <strong>Francisco</strong> International Airport, according to FlightAware, a tracking website. Elsewhere in Northern California, rivers and creeks spilled over their banks after back-to-back days of pelting rain. Roads and fields flooded. The dangerous <strong>weather</strong>, fed by an ...\"}, {\"title\": \"First Alert Weather Sunday morning forecast - CBS San Francisco\", \"url\": \"https://www.cbsnews.com/sanfrancisco/video/first-alert-weather-sunday-morning-forecast-101/\", \"description\": \"with Zoe Mintz\"}, {\"title\": \"Bay Area Atmospheric river storm: Live Updates\", \"url\": \"https://www.kron4.com/weather/bay-area-atmospheric-river-storm-live-updates/\", \"description\": \"<strong>SAN</strong> <strong>FRANCISCO</strong> (KRON) \\\\u2014 The National <strong>Weather</strong> Service forecast for the greater <strong>San</strong> <strong>Francisco</strong> Bay Area for Friday calls for up to 100 percent chances of heavy rain, especially in the North Bay where flooding remains likely in most areas. \\\\u201cSimply put, Friday will be a wet one,\\\\u201d the National ...\"}, {\"title\": \"San Francisco weather: Here\\'s how much it rained in the Bay Area\", \"url\": \"https://www.aol.com/san-francisco-weather-heres-much-133043195.html\", \"description\": \"It sure rained a lot in the Bay Area on Wednesday. But how wet was it?\"}]]}'"
            ]
          },
          "execution_count": 99,
          "metadata": {},
          "output_type": "execute_result"
        }
      ],
      "source": [
        "tool_call_response = await brave.search(\"San Francisco weather\")\n",
        "tool_call_response"
      ]
    },
    {
      "cell_type": "markdown",
      "metadata": {
        "id": "ioHA5evXydr2"
      },
      "source": [
        "As we can see, it returns the query response after searching the web. We may use this response in our experiment.\n"
      ]
    },
    {
      "cell_type": "markdown",
      "metadata": {
        "id": "SrxERzNMrnTV"
      },
      "source": [
        "### 3.1 Using a Traditional String Implementation\n",
        "\n",
        "Let's define the custom web search tool. It must follow the same **JSON structure** as the previous tool. Once defined, we can integrate it into the `system_prompt` to enable the model to use it during the conversation.\n",
        "\n",
        "Here is the structure we'll follow:"
      ]
    },
    {
      "cell_type": "code",
      "execution_count": 100,
      "metadata": {
        "colab": {
          "base_uri": "https://localhost:8080/"
        },
        "id": "K76dxgB16A2r",
        "outputId": "fda8bcfc-1593-4714-ce22-8392c969bbc8"
      },
      "outputs": [
        {
          "name": "stdout",
          "output_type": "stream",
          "text": [
            "<|start_header_id|>system<|end_header_id|>\n",
            "\n",
            "You are an expert in composing functions. You are given a question and a set of possible functions.\n",
            "Based on the question, you will need to make one or more function/tool calls to achieve the purpose.\n",
            "If none of the function can be used, point it out. If the given question lacks the parameters required by the function,\n",
            "also point it out. You should only return the function call in tools call sections.\n",
            "\n",
            "If you decide to invoke any of the function(s), you MUST put it in the format of [func_name1(params_name1=params_value1, params_name2=params_value2...), func_name2(params)]\n",
            "You SHOULD NOT include any other text in the response.\n",
            "\n",
            "Here is a list of functions in JSON format that you can invoke.[\n",
            "    {\n",
            "        \"name\": \"web_search\",\n",
            "        \"description\": \"Search the web for a given query\",\n",
            "        \"parameters\": {\n",
            "            \"type\": \"dict\",\n",
            "            \"required\": [\"query\"],\n",
            "            \"properties\": {\n",
            "                \"query\": {\n",
            "                    \"type\": \"str\",\n",
            "                    \"description\": \"The query to search for\"\n",
            "                },\n",
            "            }\n",
            "        }\n",
            "    }\n",
            "]<|eot_id|><|start_header_id|>user<|end_header_id|>\n",
            "\n",
            "\n"
          ]
        }
      ],
      "source": [
        "custom_tool = \"\"\"\\\n",
        "[\n",
        "    {\n",
        "        \"name\": \"web_search\",\n",
        "        \"description\": \"Search the web for a given query\",\n",
        "        \"parameters\": {\n",
        "            \"type\": \"dict\",\n",
        "            \"required\": [\"query\"],\n",
        "            \"properties\": {\n",
        "                \"query\": {\n",
        "                    \"type\": \"str\",\n",
        "                    \"description\": \"The query to search for\"\n",
        "                },\n",
        "            }\n",
        "        }\n",
        "    }\n",
        "]\"\"\"\n",
        "\n",
        "system_prompt = f\"{prior_system_instruction}{custom_tool}<|eot_id|><|start_header_id|>user<|end_header_id|>\\n\\n\"\n",
        "\n",
        "print(system_prompt)"
      ]
    },
    {
      "cell_type": "markdown",
      "metadata": {
        "id": "i_HRwvMYyxQ9"
      },
      "source": [
        "Now, let's add the `user_prompt` in the user turn, just as we did before. This will allow the model to understand the user's request and trigger the web search tool accordingly."
      ]
    },
    {
      "cell_type": "code",
      "execution_count": 101,
      "metadata": {
        "id": "U9j2vRKh7ih8"
      },
      "outputs": [],
      "source": [
        "user_prompt = \"What is the weather in SF?\"\n",
        "\n",
        "prompt = f\"{system_prompt}{user_prompt}<|eot_id|><|start_header_id|>assistant<|end_header_id|>\\n\\n\""
      ]
    },
    {
      "cell_type": "code",
      "execution_count": 102,
      "metadata": {
        "colab": {
          "base_uri": "https://localhost:8080/"
        },
        "id": "tMcmLRUn7knU",
        "outputId": "ec1b8ccb-5ec4-4418-ecf7-9e3866454c25"
      },
      "outputs": [
        {
          "name": "stdout",
          "output_type": "stream",
          "text": [
            "<|start_header_id|>system<|end_header_id|>\n",
            "\n",
            "You are an expert in composing functions. You are given a question and a set of possible functions.\n",
            "Based on the question, you will need to make one or more function/tool calls to achieve the purpose.\n",
            "If none of the function can be used, point it out. If the given question lacks the parameters required by the function,\n",
            "also point it out. You should only return the function call in tools call sections.\n",
            "\n",
            "If you decide to invoke any of the function(s), you MUST put it in the format of [func_name1(params_name1=params_value1, params_name2=params_value2...), func_name2(params)]\n",
            "You SHOULD NOT include any other text in the response.\n",
            "\n",
            "Here is a list of functions in JSON format that you can invoke.[\n",
            "    {\n",
            "        \"name\": \"web_search\",\n",
            "        \"description\": \"Search the web for a given query\",\n",
            "        \"parameters\": {\n",
            "            \"type\": \"dict\",\n",
            "            \"required\": [\"query\"],\n",
            "            \"properties\": {\n",
            "                \"query\": {\n",
            "                    \"type\": \"str\",\n",
            "                    \"description\": \"The query to search for\"\n",
            "                },\n",
            "            }\n",
            "        }\n",
            "    }\n",
            "]<|eot_id|><|start_header_id|>user<|end_header_id|>\n",
            "\n",
            "What is the weather in SF?<|eot_id|><|start_header_id|>assistant<|end_header_id|>\n",
            "\n",
            "\n"
          ]
        }
      ],
      "source": [
        "print(prompt)"
      ]
    },
    {
      "cell_type": "markdown",
      "metadata": {
        "id": "Uv0oSpkzy6vN"
      },
      "source": [
        "Now that we have everything set up, let's call the model and see if it correctly understands the tool structure and invokes the **web search tool** as intended."
      ]
    },
    {
      "cell_type": "code",
      "execution_count": 103,
      "metadata": {
        "colab": {
          "base_uri": "https://localhost:8080/"
        },
        "id": "2dkiOXT-7m5n",
        "outputId": "ceaa323f-637b-4a56-cb55-188243824687"
      },
      "outputs": [
        {
          "name": "stderr",
          "output_type": "stream",
          "text": [
            "Setting `pad_token_id` to `eos_token_id`:None for open-end generation.\n"
          ]
        },
        {
          "name": "stdout",
          "output_type": "stream",
          "text": [
            "[web_search(query='San Francisco weather')]<|eot_id|>\n"
          ]
        }
      ],
      "source": [
        "model_tool_call_response = generate(prompt, model, tokenizer)\n",
        "print(model_tool_call_response)"
      ]
    },
    {
      "cell_type": "markdown",
      "metadata": {
        "id": "mext_jI-zD-J"
      },
      "source": [
        "The model correctly understood that it needs to call the **web search tool**. Now that we have the tool's answer, we can add it to the prompt to complete the interaction and generate the final response. Since we alredy have the `brave_search_response`, we can easily add it!\n"
      ]
    },
    {
      "cell_type": "code",
      "execution_count": 104,
      "metadata": {
        "colab": {
          "base_uri": "https://localhost:8080/"
        },
        "id": "8CrORexW7rF3",
        "outputId": "75ae7962-7a7e-4a49-cb5c-fa36c9e105a7"
      },
      "outputs": [
        {
          "name": "stdout",
          "output_type": "stream",
          "text": [
            "<|start_header_id|>system<|end_header_id|>\n",
            "\n",
            "You are an expert in composing functions. You are given a question and a set of possible functions.\n",
            "Based on the question, you will need to make one or more function/tool calls to achieve the purpose.\n",
            "If none of the function can be used, point it out. If the given question lacks the parameters required by the function,\n",
            "also point it out. You should only return the function call in tools call sections.\n",
            "\n",
            "If you decide to invoke any of the function(s), you MUST put it in the format of [func_name1(params_name1=params_value1, params_name2=params_value2...), func_name2(params)]\n",
            "You SHOULD NOT include any other text in the response.\n",
            "\n",
            "Here is a list of functions in JSON format that you can invoke.[\n",
            "    {\n",
            "        \"name\": \"web_search\",\n",
            "        \"description\": \"Search the web for a given query\",\n",
            "        \"parameters\": {\n",
            "            \"type\": \"dict\",\n",
            "            \"required\": [\"query\"],\n",
            "            \"properties\": {\n",
            "                \"query\": {\n",
            "                    \"type\": \"str\",\n",
            "                    \"description\": \"The query to search for\"\n",
            "                },\n",
            "            }\n",
            "        }\n",
            "    }\n",
            "]<|eot_id|><|start_header_id|>user<|end_header_id|>\n",
            "\n",
            "What is the weather in SF?<|eot_id|><|start_header_id|>assistant<|end_header_id|>\n",
            "\n",
            "<|python_tag|>[web_search(query='San Francisco weather')]<|eot_id|><|start_header_id|>ipython<|end_header_id|>\n",
            "\n",
            "{\"query\": \"San Francisco weather\", \"top_k\": [{\"title\": \"10-Day Weather Forecast for San Francisco, CA - The Weather Channel | weather.com\", \"url\": \"https://weather.com/weather/tenday/l/San+Francisco+CA+USCA0987:1:US\", \"description\": \"Be prepared with the most accurate 10-day forecast for <strong>San</strong> <strong>Francisco</strong>, CA with highs, lows, chance of precipitation from The <strong>Weather</strong> Channel and <strong>Weather</strong>.com\", \"type\": \"search_result\"}, {\"title\": \"San Francisco, CA Weather Forecast | AccuWeather\", \"url\": \"https://www.accuweather.com/en/us/san-francisco/94103/weather-forecast/347629\", \"description\": \"<strong>San</strong> <strong>Francisco</strong>, CA <strong>Weather</strong> Forecast, with current conditions, wind, air quality, and what to expect for the next 3 days.\", \"type\": \"search_result\"}, [{\"title\": \"Monday morning First Alert Weather forecast 11/25/24 - CBS San Francisco\", \"url\": \"https://www.cbsnews.com/sanfrancisco/video/monday-morning-first-alert-weather-forecast-112524/\", \"description\": \"Meteorologist Jessica Burch has a look at rain totals around the Bay Area and how long the wet <strong>weather</strong> will last.\"}, {\"title\": \"Flooded S.F. businesses assess damage from deluge\", \"url\": \"http://www.sfchronicle.com/weather/article/sf-flooding-businesses-19938377.php\", \"description\": \"After shutting their doors during Friday\\u2019s intense rainfall and flooding, many reopened Saturday to dry out and take stock.\"}, {\"title\": \"San Francisco weather: Here's how much it rained the last 7 days in the Bay Area | KTVU FOX 2\", \"url\": \"https://www.ktvu.com/news/san-francisco-weather-heres-how-much-rained-last-7-days-bay-area\", \"description\": \"As the rain resumed on Monday, Bay Area residents might be trying to tally just how much precipitation has collected over the last seven days.\"}, {\"title\": \"Flash flood warning in San Francisco \\u2013 NBC Bay Area\", \"url\": \"https://www.nbcbayarea.com/news/local/san-francisco/flash-flood-warning-2/3717801/\", \"description\": \"The National <strong>Weather</strong> Service has issued a flash flood warning in <strong>San</strong> <strong>Francisco</strong> until 3:45 p.m. Friday.\"}, {\"title\": \"Northern California Atmospheric River: Storm impact to become more widespread across Bay Area - ABC7 San Francisco\", \"url\": \"https://abc7news.com/post/northern-california-atmospheric-river-storm-impact-become-more-widespread-bay-area/15573423/\", \"description\": \"An atmospheric river is bringing heavy rain, flood risks, and strong winds to Northern California.\"}, {\"title\": \"SF hit with 'rare' flash flood warning amid Calif. atmospheric river\", \"url\": \"https://www.sfgate.com/weather/article/entire-city-sf-now-life-threatening-flash-flood-19937062.php\", \"description\": \"An emergency phone alert went out to residents in <strong>San</strong> <strong>Francisco</strong> County, warning the public of \\u201clife-threatening\\u201d flash flooding. The warning was issued by the National <strong>Weather</strong> Service just before 1 p.m. Friday and is in effect until 3:45 p.m.\"}, {\"title\": \"California Storm Brings Record Rain and Flooding to San Francisco Bay Area - The New York Times\", \"url\": \"https://www.nytimes.com/2024/11/22/weather/california-storm-floods.html\", \"description\": \"Heavy winds forced about 450 flight ... noon at <strong>San</strong> <strong>Francisco</strong> International Airport, according to FlightAware, a tracking website. Elsewhere in Northern California, rivers and creeks spilled over their banks after back-to-back days of pelting rain. Roads and fields flooded. The dangerous <strong>weather</strong>, fed by an ...\"}, {\"title\": \"First Alert Weather Sunday morning forecast - CBS San Francisco\", \"url\": \"https://www.cbsnews.com/sanfrancisco/video/first-alert-weather-sunday-morning-forecast-101/\", \"description\": \"with Zoe Mintz\"}, {\"title\": \"Bay Area Atmospheric river storm: Live Updates\", \"url\": \"https://www.kron4.com/weather/bay-area-atmospheric-river-storm-live-updates/\", \"description\": \"<strong>SAN</strong> <strong>FRANCISCO</strong> (KRON) \\u2014 The National <strong>Weather</strong> Service forecast for the greater <strong>San</strong> <strong>Francisco</strong> Bay Area for Friday calls for up to 100 percent chances of heavy rain, especially in the North Bay where flooding remains likely in most areas. \\u201cSimply put, Friday will be a wet one,\\u201d the National ...\"}, {\"title\": \"San Francisco weather: Here's how much it rained in the Bay Area\", \"url\": \"https://www.aol.com/san-francisco-weather-heres-much-133043195.html\", \"description\": \"It sure rained a lot in the Bay Area on Wednesday. But how wet was it?\"}]]}<|eot_id|><|start_header_id|>assistant<|end_header_id|>\n",
            "\n",
            "\n"
          ]
        }
      ],
      "source": [
        "prompt = f\"{prompt}<|python_tag|>{model_tool_call_response}<|start_header_id|>ipython<|end_header_id|>\\n\\n\"\n",
        "\n",
        "prompt = prompt + f'{tool_call_response}<|eot_id|><|start_header_id|>assistant<|end_header_id|>\\n\\n'\n",
        "print(prompt)"
      ]
    },
    {
      "cell_type": "markdown",
      "metadata": {
        "id": "ZZ0_WT5fzj54"
      },
      "source": [
        "Finally, we can generate the model's response, incorporating the web search tool's answer into the prompt and completing the process.  "
      ]
    },
    {
      "cell_type": "code",
      "execution_count": 107,
      "metadata": {
        "colab": {
          "base_uri": "https://localhost:8080/"
        },
        "id": "w6sZQCmS7y0N",
        "outputId": "09523846-3341-40b0-b5da-75d0689bca80"
      },
      "outputs": [
        {
          "name": "stderr",
          "output_type": "stream",
          "text": [
            "Setting `pad_token_id` to `eos_token_id`:None for open-end generation.\n"
          ]
        },
        {
          "name": "stdout",
          "output_type": "stream",
          "text": [
            "The current weather in San Francisco is wet, with heavy rain and flash flood warnings in effect. The National Weather Service has issued a flash flood warning until 3:45 p.m. Friday, and there is a chance of up to 100% of heavy rain, especially in the North Bay.<|eot_id|>\n"
          ]
        }
      ],
      "source": [
        "print(generate(prompt, model, tokenizer))"
      ]
    },
    {
      "cell_type": "markdown",
      "metadata": {
        "id": "3Fgzm9AYGr6C"
      },
      "source": [
        "We are now able to add a web search tool to the model capabilities! 🌐"
      ]
    },
    {
      "cell_type": "markdown",
      "metadata": {
        "id": "M_hlIvEwrbLU"
      },
      "source": [
        "### 3.2 Using a Chat Template\n",
        "\n",
        "To conclude, let's explore how the web search functionality can be implemented using the previously introduced `chat_template`. We'll start by defining the web search tool as a Python function."
      ]
    },
    {
      "cell_type": "code",
      "execution_count": 113,
      "metadata": {
        "id": "Y3psXKLYqbK_"
      },
      "outputs": [],
      "source": [
        "def web_search(query: str):\n",
        "    \"\"\"\n",
        "    Search the web for a given query\n",
        "\n",
        "    Args:\n",
        "        query: The query to search for\n",
        "    \"\"\"\n",
        "    return result"
      ]
    },
    {
      "cell_type": "markdown",
      "metadata": {
        "id": "7zCwxvojr5Gf"
      },
      "source": [
        "Now, let's use `tokenizer.apply_chat_template` with the appropriate arguments to incorporate our new web search functionality. This will allow us to simplify the process while maintaining the same structured approach for tool integration.\n"
      ]
    },
    {
      "cell_type": "code",
      "execution_count": 123,
      "metadata": {
        "colab": {
          "base_uri": "https://localhost:8080/"
        },
        "id": "gwE62DhlqOwd",
        "outputId": "fb46a80d-24cc-4f6f-882a-caf9db160abb"
      },
      "outputs": [
        {
          "name": "stdout",
          "output_type": "stream",
          "text": [
            "<|start_header_id|>system<|end_header_id|>\n",
            "\n",
            "You are an expert in composing functions. You are given a question and a set of possible functions.\n",
            "Based on the question, you will need to make one or more function/tool calls to achieve the purpose.\n",
            "If none of the function can be used, point it out. If the given question lacks the parameters required by the function,\n",
            "also point it out. You should only return the function call in tools call sections.\n",
            "\n",
            "If you decide to invoke any of the function(s), you MUST put it in the format of [func_name1(params_name1=params_value1, params_name2=params_value2...), func_name2(params)]\n",
            "You SHOULD NOT include any other text in the response.\n",
            "\n",
            "Here is a list of functions in JSON format that you can invoke.[\n",
            "    {\n",
            "        \"name\": \"web_search\",\n",
            "        \"description\": \"Search the web for a given query\",\n",
            "        \"parameters\": {\n",
            "            \"type\": \"dict\",\n",
            "            \"properties\": {\n",
            "                \"query\": {\n",
            "                    \"type\": \"string\",\n",
            "                    \"description\": \"The query to search for\"\n",
            "                }\n",
            "            },\n",
            "            \"required\": [\n",
            "                \"query\"\n",
            "            ]\n",
            "        }\n",
            "    }\n",
            "]<|eot_id|><|start_header_id|>user<|end_header_id|>\n",
            "\n",
            "What is the weather in SF?<|eot_id|><|start_header_id|>assistant<|end_header_id|>\n",
            "\n",
            "<|python_tag|>[web_search(query=San Francisco weather)]<|eot_id|><|start_header_id|>ipython<|end_header_id|>\n",
            "\n",
            "\"{\\\"query\\\": \\\"San Francisco weather\\\", \\\"top_k\\\": [{\\\"title\\\": \\\"10-Day Weather Forecast for San Francisco, CA - The Weather Channel | weather.com\\\", \\\"url\\\": \\\"https://weather.com/weather/tenday/l/San+Francisco+CA+USCA0987:1:US\\\", \\\"description\\\": \\\"Be prepared with the most accurate 10-day forecast for <strong>San</strong> <strong>Francisco</strong>, CA with highs, lows, chance of precipitation from The <strong>Weather</strong> Channel and <strong>Weather</strong>.com\\\", \\\"type\\\": \\\"search_result\\\"}, {\\\"title\\\": \\\"San Francisco, CA Weather Forecast | AccuWeather\\\", \\\"url\\\": \\\"https://www.accuweather.com/en/us/san-francisco/94103/weather-forecast/347629\\\", \\\"description\\\": \\\"<strong>San</strong> <strong>Francisco</strong>, CA <strong>Weather</strong> Forecast, with current conditions, wind, air quality, and what to expect for the next 3 days.\\\", \\\"type\\\": \\\"search_result\\\"}, [{\\\"title\\\": \\\"Monday morning First Alert Weather forecast 11/25/24 - CBS San Francisco\\\", \\\"url\\\": \\\"https://www.cbsnews.com/sanfrancisco/video/monday-morning-first-alert-weather-forecast-112524/\\\", \\\"description\\\": \\\"Meteorologist Jessica Burch has a look at rain totals around the Bay Area and how long the wet <strong>weather</strong> will last.\\\"}, {\\\"title\\\": \\\"Flooded S.F. businesses assess damage from deluge\\\", \\\"url\\\": \\\"http://www.sfchronicle.com/weather/article/sf-flooding-businesses-19938377.php\\\", \\\"description\\\": \\\"After shutting their doors during Friday\\\\u2019s intense rainfall and flooding, many reopened Saturday to dry out and take stock.\\\"}, {\\\"title\\\": \\\"San Francisco weather: Here's how much it rained the last 7 days in the Bay Area | KTVU FOX 2\\\", \\\"url\\\": \\\"https://www.ktvu.com/news/san-francisco-weather-heres-how-much-rained-last-7-days-bay-area\\\", \\\"description\\\": \\\"As the rain resumed on Monday, Bay Area residents might be trying to tally just how much precipitation has collected over the last seven days.\\\"}, {\\\"title\\\": \\\"Flash flood warning in San Francisco \\\\u2013 NBC Bay Area\\\", \\\"url\\\": \\\"https://www.nbcbayarea.com/news/local/san-francisco/flash-flood-warning-2/3717801/\\\", \\\"description\\\": \\\"The National <strong>Weather</strong> Service has issued a flash flood warning in <strong>San</strong> <strong>Francisco</strong> until 3:45 p.m. Friday.\\\"}, {\\\"title\\\": \\\"Northern California Atmospheric River: Storm impact to become more widespread across Bay Area - ABC7 San Francisco\\\", \\\"url\\\": \\\"https://abc7news.com/post/northern-california-atmospheric-river-storm-impact-become-more-widespread-bay-area/15573423/\\\", \\\"description\\\": \\\"An atmospheric river is bringing heavy rain, flood risks, and strong winds to Northern California.\\\"}, {\\\"title\\\": \\\"SF hit with 'rare' flash flood warning amid Calif. atmospheric river\\\", \\\"url\\\": \\\"https://www.sfgate.com/weather/article/entire-city-sf-now-life-threatening-flash-flood-19937062.php\\\", \\\"description\\\": \\\"An emergency phone alert went out to residents in <strong>San</strong> <strong>Francisco</strong> County, warning the public of \\\\u201clife-threatening\\\\u201d flash flooding. The warning was issued by the National <strong>Weather</strong> Service just before 1 p.m. Friday and is in effect until 3:45 p.m.\\\"}, {\\\"title\\\": \\\"California Storm Brings Record Rain and Flooding to San Francisco Bay Area - The New York Times\\\", \\\"url\\\": \\\"https://www.nytimes.com/2024/11/22/weather/california-storm-floods.html\\\", \\\"description\\\": \\\"Heavy winds forced about 450 flight ... noon at <strong>San</strong> <strong>Francisco</strong> International Airport, according to FlightAware, a tracking website. Elsewhere in Northern California, rivers and creeks spilled over their banks after back-to-back days of pelting rain. Roads and fields flooded. The dangerous <strong>weather</strong>, fed by an ...\\\"}, {\\\"title\\\": \\\"First Alert Weather Sunday morning forecast - CBS San Francisco\\\", \\\"url\\\": \\\"https://www.cbsnews.com/sanfrancisco/video/first-alert-weather-sunday-morning-forecast-101/\\\", \\\"description\\\": \\\"with Zoe Mintz\\\"}, {\\\"title\\\": \\\"Bay Area Atmospheric river storm: Live Updates\\\", \\\"url\\\": \\\"https://www.kron4.com/weather/bay-area-atmospheric-river-storm-live-updates/\\\", \\\"description\\\": \\\"<strong>SAN</strong> <strong>FRANCISCO</strong> (KRON) \\\\u2014 The National <strong>Weather</strong> Service forecast for the greater <strong>San</strong> <strong>Francisco</strong> Bay Area for Friday calls for up to 100 percent chances of heavy rain, especially in the North Bay where flooding remains likely in most areas. \\\\u201cSimply put, Friday will be a wet one,\\\\u201d the National ...\\\"}, {\\\"title\\\": \\\"San Francisco weather: Here's how much it rained in the Bay Area\\\", \\\"url\\\": \\\"https://www.aol.com/san-francisco-weather-heres-much-133043195.html\\\", \\\"description\\\": \\\"It sure rained a lot in the Bay Area on Wednesday. But how wet was it?\\\"}]]}\"<|eot_id|><|start_header_id|>assistant<|end_header_id|>\n",
            "\n",
            "\n"
          ]
        }
      ],
      "source": [
        "messages = [\n",
        "    {\"role\": \"user\", \"content\": \"What is the weather in SF?\"},\n",
        "    {\"role\": \"assistant\", \"tool_calls\": [{\"type\": \"function\", \"function\": {\"name\": \"web_search\", \"arguments\": {\"query\": \"San Francisco weather\"}}}]},\n",
        "    {\"role\": \"tool\", \"name\": \"web_search\", \"content\": tool_call_response},\n",
        "]\n",
        "\n",
        "prompt = tokenizer.apply_chat_template(\n",
        "    messages,\n",
        "    tools=[web_search],\n",
        "    tokenize=False,\n",
        "    add_generation_prompt=True,\n",
        ")\n",
        "\n",
        "\n",
        "prompt = prompt.replace(\"object\", \"dict\")\n",
        "print(prompt)"
      ]
    },
    {
      "cell_type": "markdown",
      "metadata": {
        "id": "kEz6M6tesB3Z"
      },
      "source": [
        "Finally, we can generate the result again, leveraging the streamlined workflow provided by the `chat_template`. This ensures consistency and clarity while allowing us to reuse the defined structure for multiple interactions.\n"
      ]
    },
    {
      "cell_type": "code",
      "execution_count": 124,
      "metadata": {
        "colab": {
          "base_uri": "https://localhost:8080/"
        },
        "id": "VmC6L7dZqriR",
        "outputId": "eb76bcd0-383b-40f8-d67b-eb29668dfc3a"
      },
      "outputs": [
        {
          "name": "stderr",
          "output_type": "stream",
          "text": [
            "Setting `pad_token_id` to `eos_token_id`:None for open-end generation.\n"
          ]
        },
        {
          "name": "stdout",
          "output_type": "stream",
          "text": [
            "The current weather in San Francisco is wet, with a high chance of heavy rain and flooding in the North Bay. The National Weather Service has issued a flash flood warning until 3:45 p.m. Friday.<|eot_id|>\n"
          ]
        }
      ],
      "source": [
        "print(generate(prompt, model, tokenizer))"
      ]
    },
    {
      "cell_type": "markdown",
      "metadata": {
        "id": "ZsG8-QvmsEqf"
      },
      "source": [
        "That's all! You're now ready to add your own tool-calling capabilities to the model. 🚀  \n",
        "\n",
        "With the examples and techniques demonstrated in this guide, you can confidently integrate and expand tool functionalities to suit your application's needs. Happy experimenting! 🎉\n"
      ]
    }
  ],
  "metadata": {
    "accelerator": "GPU",
    "colab": {
      "gpuType": "T4",
      "provenance": []
    },
    "kernelspec": {
      "display_name": "Python 3",
      "name": "python3"
    },
    "language_info": {
      "name": "python"
    },
    "widgets": {
      "application/vnd.jupyter.widget-state+json": {
        "04cc2921df8b4f81990baaa4398a6d65": {
          "model_module": "@jupyter-widgets/controls",
          "model_module_version": "1.5.0",
          "model_name": "ProgressStyleModel",
          "state": {
            "_model_module": "@jupyter-widgets/controls",
            "_model_module_version": "1.5.0",
            "_model_name": "ProgressStyleModel",
            "_view_count": null,
            "_view_module": "@jupyter-widgets/base",
            "_view_module_version": "1.2.0",
            "_view_name": "StyleView",
            "bar_color": null,
            "description_width": ""
          }
        },
        "05042316b41a4ecabeeda69e972a053f": {
          "model_module": "@jupyter-widgets/controls",
          "model_module_version": "1.5.0",
          "model_name": "HBoxModel",
          "state": {
            "_dom_classes": [],
            "_model_module": "@jupyter-widgets/controls",
            "_model_module_version": "1.5.0",
            "_model_name": "HBoxModel",
            "_view_count": null,
            "_view_module": "@jupyter-widgets/controls",
            "_view_module_version": "1.5.0",
            "_view_name": "HBoxView",
            "box_style": "",
            "children": [
              "IPY_MODEL_c20d1efd46cf40f4ae6a6e39effc74c2",
              "IPY_MODEL_2d5ccfd686554121b070eff992fb02da",
              "IPY_MODEL_6936f605710c4ea6a909c9c5832054f8"
            ],
            "layout": "IPY_MODEL_576adf1170f94f3f8801305fef8f982b"
          }
        },
        "0533c3f9c7384fad96bf19f10fbca6d9": {
          "model_module": "@jupyter-widgets/controls",
          "model_module_version": "1.5.0",
          "model_name": "HBoxModel",
          "state": {
            "_dom_classes": [],
            "_model_module": "@jupyter-widgets/controls",
            "_model_module_version": "1.5.0",
            "_model_name": "HBoxModel",
            "_view_count": null,
            "_view_module": "@jupyter-widgets/controls",
            "_view_module_version": "1.5.0",
            "_view_name": "HBoxView",
            "box_style": "",
            "children": [
              "IPY_MODEL_a26e790a1bf5471faed1c1bd4b97f369",
              "IPY_MODEL_1eb24271d0124d86aefc705e6d94869a",
              "IPY_MODEL_9cad1ec2dca541588b5af3a159f1b38e"
            ],
            "layout": "IPY_MODEL_8518788f9dc24b83ab92b46a38882708"
          }
        },
        "0891a99969244801946294471bf09a85": {
          "model_module": "@jupyter-widgets/controls",
          "model_module_version": "1.5.0",
          "model_name": "HTMLModel",
          "state": {
            "_dom_classes": [],
            "_model_module": "@jupyter-widgets/controls",
            "_model_module_version": "1.5.0",
            "_model_name": "HTMLModel",
            "_view_count": null,
            "_view_module": "@jupyter-widgets/controls",
            "_view_module_version": "1.5.0",
            "_view_name": "HTMLView",
            "description": "",
            "description_tooltip": null,
            "layout": "IPY_MODEL_80242711ae9e4aa399e69ccef28bc76f",
            "placeholder": "​",
            "style": "IPY_MODEL_269773a44cb24578807756e64c9c828e",
            "value": "tokenizer_config.json: 100%"
          }
        },
        "08d45a6ace0f48a4813c6a2787b9b404": {
          "model_module": "@jupyter-widgets/controls",
          "model_module_version": "1.5.0",
          "model_name": "FloatProgressModel",
          "state": {
            "_dom_classes": [],
            "_model_module": "@jupyter-widgets/controls",
            "_model_module_version": "1.5.0",
            "_model_name": "FloatProgressModel",
            "_view_count": null,
            "_view_module": "@jupyter-widgets/controls",
            "_view_module_version": "1.5.0",
            "_view_name": "ProgressView",
            "bar_style": "success",
            "description": "",
            "description_tooltip": null,
            "layout": "IPY_MODEL_68c560b8995149c5b399e74f91a8e4f5",
            "max": 1459729952,
            "min": 0,
            "orientation": "horizontal",
            "style": "IPY_MODEL_33541c17dc3d44f4a115210a701409b9",
            "value": 1459729952
          }
        },
        "096965631e2c418e88b9f4be4b0a1fd4": {
          "model_module": "@jupyter-widgets/base",
          "model_module_version": "1.2.0",
          "model_name": "LayoutModel",
          "state": {
            "_model_module": "@jupyter-widgets/base",
            "_model_module_version": "1.2.0",
            "_model_name": "LayoutModel",
            "_view_count": null,
            "_view_module": "@jupyter-widgets/base",
            "_view_module_version": "1.2.0",
            "_view_name": "LayoutView",
            "align_content": null,
            "align_items": null,
            "align_self": null,
            "border": null,
            "bottom": null,
            "display": null,
            "flex": null,
            "flex_flow": null,
            "grid_area": null,
            "grid_auto_columns": null,
            "grid_auto_flow": null,
            "grid_auto_rows": null,
            "grid_column": null,
            "grid_gap": null,
            "grid_row": null,
            "grid_template_areas": null,
            "grid_template_columns": null,
            "grid_template_rows": null,
            "height": null,
            "justify_content": null,
            "justify_items": null,
            "left": null,
            "margin": null,
            "max_height": null,
            "max_width": null,
            "min_height": null,
            "min_width": null,
            "object_fit": null,
            "object_position": null,
            "order": null,
            "overflow": null,
            "overflow_x": null,
            "overflow_y": null,
            "padding": null,
            "right": null,
            "top": null,
            "visibility": null,
            "width": null
          }
        },
        "0c0ec95879f04236ad2681ee3e67a852": {
          "model_module": "@jupyter-widgets/controls",
          "model_module_version": "1.5.0",
          "model_name": "HTMLModel",
          "state": {
            "_dom_classes": [],
            "_model_module": "@jupyter-widgets/controls",
            "_model_module_version": "1.5.0",
            "_model_name": "HTMLModel",
            "_view_count": null,
            "_view_module": "@jupyter-widgets/controls",
            "_view_module_version": "1.5.0",
            "_view_name": "HTMLView",
            "description": "",
            "description_tooltip": null,
            "layout": "IPY_MODEL_096965631e2c418e88b9f4be4b0a1fd4",
            "placeholder": "​",
            "style": "IPY_MODEL_caf122e9a26440f089b5b81615eb3711",
            "value": "tokenizer.json: 100%"
          }
        },
        "0c4f25b904a94227a21a6359bff86ce0": {
          "model_module": "@jupyter-widgets/base",
          "model_module_version": "1.2.0",
          "model_name": "LayoutModel",
          "state": {
            "_model_module": "@jupyter-widgets/base",
            "_model_module_version": "1.2.0",
            "_model_name": "LayoutModel",
            "_view_count": null,
            "_view_module": "@jupyter-widgets/base",
            "_view_module_version": "1.2.0",
            "_view_name": "LayoutView",
            "align_content": null,
            "align_items": null,
            "align_self": null,
            "border": null,
            "bottom": null,
            "display": null,
            "flex": null,
            "flex_flow": null,
            "grid_area": null,
            "grid_auto_columns": null,
            "grid_auto_flow": null,
            "grid_auto_rows": null,
            "grid_column": null,
            "grid_gap": null,
            "grid_row": null,
            "grid_template_areas": null,
            "grid_template_columns": null,
            "grid_template_rows": null,
            "height": null,
            "justify_content": null,
            "justify_items": null,
            "left": null,
            "margin": null,
            "max_height": null,
            "max_width": null,
            "min_height": null,
            "min_width": null,
            "object_fit": null,
            "object_position": null,
            "order": null,
            "overflow": null,
            "overflow_x": null,
            "overflow_y": null,
            "padding": null,
            "right": null,
            "top": null,
            "visibility": null,
            "width": null
          }
        },
        "0d18008bd6da4f22be3a74a4c9580d64": {
          "model_module": "@jupyter-widgets/controls",
          "model_module_version": "1.5.0",
          "model_name": "DescriptionStyleModel",
          "state": {
            "_model_module": "@jupyter-widgets/controls",
            "_model_module_version": "1.5.0",
            "_model_name": "DescriptionStyleModel",
            "_view_count": null,
            "_view_module": "@jupyter-widgets/base",
            "_view_module_version": "1.2.0",
            "_view_name": "StyleView",
            "description_width": ""
          }
        },
        "143fe69d99c344579b0d281a7b31793b": {
          "model_module": "@jupyter-widgets/controls",
          "model_module_version": "1.5.0",
          "model_name": "DescriptionStyleModel",
          "state": {
            "_model_module": "@jupyter-widgets/controls",
            "_model_module_version": "1.5.0",
            "_model_name": "DescriptionStyleModel",
            "_view_count": null,
            "_view_module": "@jupyter-widgets/base",
            "_view_module_version": "1.2.0",
            "_view_name": "StyleView",
            "description_width": ""
          }
        },
        "1480ae658e97463b949438f70dd9da3e": {
          "model_module": "@jupyter-widgets/controls",
          "model_module_version": "1.5.0",
          "model_name": "HTMLModel",
          "state": {
            "_dom_classes": [],
            "_model_module": "@jupyter-widgets/controls",
            "_model_module_version": "1.5.0",
            "_model_name": "HTMLModel",
            "_view_count": null,
            "_view_module": "@jupyter-widgets/controls",
            "_view_module_version": "1.5.0",
            "_view_name": "HTMLView",
            "description": "",
            "description_tooltip": null,
            "layout": "IPY_MODEL_4d12e7e737ad438eba5927b9f498351b",
            "placeholder": "​",
            "style": "IPY_MODEL_d46e13dba4b74461afdf5b91fdf094d0",
            "value": " 1.46G/1.46G [00:34&lt;00:00, 42.8MB/s]"
          }
        },
        "1eb24271d0124d86aefc705e6d94869a": {
          "model_module": "@jupyter-widgets/controls",
          "model_module_version": "1.5.0",
          "model_name": "FloatProgressModel",
          "state": {
            "_dom_classes": [],
            "_model_module": "@jupyter-widgets/controls",
            "_model_module_version": "1.5.0",
            "_model_name": "FloatProgressModel",
            "_view_count": null,
            "_view_module": "@jupyter-widgets/controls",
            "_view_module_version": "1.5.0",
            "_view_name": "ProgressView",
            "bar_style": "success",
            "description": "",
            "description_tooltip": null,
            "layout": "IPY_MODEL_e9b9b87c861b456b92fa085f44fe994c",
            "max": 2,
            "min": 0,
            "orientation": "horizontal",
            "style": "IPY_MODEL_f26bbe3ae8a3497994b1957693a30506",
            "value": 2
          }
        },
        "20e9c1ce66874edbafff28bf6afc8daf": {
          "model_module": "@jupyter-widgets/controls",
          "model_module_version": "1.5.0",
          "model_name": "HTMLModel",
          "state": {
            "_dom_classes": [],
            "_model_module": "@jupyter-widgets/controls",
            "_model_module_version": "1.5.0",
            "_model_name": "HTMLModel",
            "_view_count": null,
            "_view_module": "@jupyter-widgets/controls",
            "_view_module_version": "1.5.0",
            "_view_name": "HTMLView",
            "description": "",
            "description_tooltip": null,
            "layout": "IPY_MODEL_c528b6ff71c14340a6ce600ef0f2c5e0",
            "placeholder": "​",
            "style": "IPY_MODEL_2b77d89f39e64978b579eb4d95d260da",
            "value": " 9.09M/9.09M [00:02&lt;00:00, 3.71MB/s]"
          }
        },
        "2115a9a634d24023a70cca458de6963d": {
          "model_module": "@jupyter-widgets/base",
          "model_module_version": "1.2.0",
          "model_name": "LayoutModel",
          "state": {
            "_model_module": "@jupyter-widgets/base",
            "_model_module_version": "1.2.0",
            "_model_name": "LayoutModel",
            "_view_count": null,
            "_view_module": "@jupyter-widgets/base",
            "_view_module_version": "1.2.0",
            "_view_name": "LayoutView",
            "align_content": null,
            "align_items": null,
            "align_self": null,
            "border": null,
            "bottom": null,
            "display": null,
            "flex": null,
            "flex_flow": null,
            "grid_area": null,
            "grid_auto_columns": null,
            "grid_auto_flow": null,
            "grid_auto_rows": null,
            "grid_column": null,
            "grid_gap": null,
            "grid_row": null,
            "grid_template_areas": null,
            "grid_template_columns": null,
            "grid_template_rows": null,
            "height": null,
            "justify_content": null,
            "justify_items": null,
            "left": null,
            "margin": null,
            "max_height": null,
            "max_width": null,
            "min_height": null,
            "min_width": null,
            "object_fit": null,
            "object_position": null,
            "order": null,
            "overflow": null,
            "overflow_x": null,
            "overflow_y": null,
            "padding": null,
            "right": null,
            "top": null,
            "visibility": null,
            "width": null
          }
        },
        "24a3773614ca492f82167fba5fddd12e": {
          "model_module": "@jupyter-widgets/base",
          "model_module_version": "1.2.0",
          "model_name": "LayoutModel",
          "state": {
            "_model_module": "@jupyter-widgets/base",
            "_model_module_version": "1.2.0",
            "_model_name": "LayoutModel",
            "_view_count": null,
            "_view_module": "@jupyter-widgets/base",
            "_view_module_version": "1.2.0",
            "_view_name": "LayoutView",
            "align_content": null,
            "align_items": null,
            "align_self": null,
            "border": null,
            "bottom": null,
            "display": null,
            "flex": null,
            "flex_flow": null,
            "grid_area": null,
            "grid_auto_columns": null,
            "grid_auto_flow": null,
            "grid_auto_rows": null,
            "grid_column": null,
            "grid_gap": null,
            "grid_row": null,
            "grid_template_areas": null,
            "grid_template_columns": null,
            "grid_template_rows": null,
            "height": null,
            "justify_content": null,
            "justify_items": null,
            "left": null,
            "margin": null,
            "max_height": null,
            "max_width": null,
            "min_height": null,
            "min_width": null,
            "object_fit": null,
            "object_position": null,
            "order": null,
            "overflow": null,
            "overflow_x": null,
            "overflow_y": null,
            "padding": null,
            "right": null,
            "top": null,
            "visibility": null,
            "width": null
          }
        },
        "269773a44cb24578807756e64c9c828e": {
          "model_module": "@jupyter-widgets/controls",
          "model_module_version": "1.5.0",
          "model_name": "DescriptionStyleModel",
          "state": {
            "_model_module": "@jupyter-widgets/controls",
            "_model_module_version": "1.5.0",
            "_model_name": "DescriptionStyleModel",
            "_view_count": null,
            "_view_module": "@jupyter-widgets/base",
            "_view_module_version": "1.2.0",
            "_view_name": "StyleView",
            "description_width": ""
          }
        },
        "2a2fd2a632b146f781bf6c47a325a58a": {
          "model_module": "@jupyter-widgets/base",
          "model_module_version": "1.2.0",
          "model_name": "LayoutModel",
          "state": {
            "_model_module": "@jupyter-widgets/base",
            "_model_module_version": "1.2.0",
            "_model_name": "LayoutModel",
            "_view_count": null,
            "_view_module": "@jupyter-widgets/base",
            "_view_module_version": "1.2.0",
            "_view_name": "LayoutView",
            "align_content": null,
            "align_items": null,
            "align_self": null,
            "border": null,
            "bottom": null,
            "display": null,
            "flex": null,
            "flex_flow": null,
            "grid_area": null,
            "grid_auto_columns": null,
            "grid_auto_flow": null,
            "grid_auto_rows": null,
            "grid_column": null,
            "grid_gap": null,
            "grid_row": null,
            "grid_template_areas": null,
            "grid_template_columns": null,
            "grid_template_rows": null,
            "height": null,
            "justify_content": null,
            "justify_items": null,
            "left": null,
            "margin": null,
            "max_height": null,
            "max_width": null,
            "min_height": null,
            "min_width": null,
            "object_fit": null,
            "object_position": null,
            "order": null,
            "overflow": null,
            "overflow_x": null,
            "overflow_y": null,
            "padding": null,
            "right": null,
            "top": null,
            "visibility": null,
            "width": null
          }
        },
        "2b77d89f39e64978b579eb4d95d260da": {
          "model_module": "@jupyter-widgets/controls",
          "model_module_version": "1.5.0",
          "model_name": "DescriptionStyleModel",
          "state": {
            "_model_module": "@jupyter-widgets/controls",
            "_model_module_version": "1.5.0",
            "_model_name": "DescriptionStyleModel",
            "_view_count": null,
            "_view_module": "@jupyter-widgets/base",
            "_view_module_version": "1.2.0",
            "_view_name": "StyleView",
            "description_width": ""
          }
        },
        "2c3675264c214a759521b58fbabb87c9": {
          "model_module": "@jupyter-widgets/controls",
          "model_module_version": "1.5.0",
          "model_name": "HTMLModel",
          "state": {
            "_dom_classes": [],
            "_model_module": "@jupyter-widgets/controls",
            "_model_module_version": "1.5.0",
            "_model_name": "HTMLModel",
            "_view_count": null,
            "_view_module": "@jupyter-widgets/controls",
            "_view_module_version": "1.5.0",
            "_view_name": "HTMLView",
            "description": "",
            "description_tooltip": null,
            "layout": "IPY_MODEL_816a9911e8bb4878a05adbdebcd3f60f",
            "placeholder": "​",
            "style": "IPY_MODEL_86f66b270db64a3cacbf7482b46130ad",
            "value": "model-00001-of-00002.safetensors: 100%"
          }
        },
        "2d5ccfd686554121b070eff992fb02da": {
          "model_module": "@jupyter-widgets/controls",
          "model_module_version": "1.5.0",
          "model_name": "FloatProgressModel",
          "state": {
            "_dom_classes": [],
            "_model_module": "@jupyter-widgets/controls",
            "_model_module_version": "1.5.0",
            "_model_name": "FloatProgressModel",
            "_view_count": null,
            "_view_module": "@jupyter-widgets/controls",
            "_view_module_version": "1.5.0",
            "_view_name": "ProgressView",
            "bar_style": "success",
            "description": "",
            "description_tooltip": null,
            "layout": "IPY_MODEL_5a500cbdfb174fc6b80973301cb4b690",
            "max": 189,
            "min": 0,
            "orientation": "horizontal",
            "style": "IPY_MODEL_ba7246955b804d419423d451fd8539ca",
            "value": 189
          }
        },
        "2de4427264ad4f48b2e02b8ec64584cd": {
          "model_module": "@jupyter-widgets/base",
          "model_module_version": "1.2.0",
          "model_name": "LayoutModel",
          "state": {
            "_model_module": "@jupyter-widgets/base",
            "_model_module_version": "1.2.0",
            "_model_name": "LayoutModel",
            "_view_count": null,
            "_view_module": "@jupyter-widgets/base",
            "_view_module_version": "1.2.0",
            "_view_name": "LayoutView",
            "align_content": null,
            "align_items": null,
            "align_self": null,
            "border": null,
            "bottom": null,
            "display": null,
            "flex": null,
            "flex_flow": null,
            "grid_area": null,
            "grid_auto_columns": null,
            "grid_auto_flow": null,
            "grid_auto_rows": null,
            "grid_column": null,
            "grid_gap": null,
            "grid_row": null,
            "grid_template_areas": null,
            "grid_template_columns": null,
            "grid_template_rows": null,
            "height": null,
            "justify_content": null,
            "justify_items": null,
            "left": null,
            "margin": null,
            "max_height": null,
            "max_width": null,
            "min_height": null,
            "min_width": null,
            "object_fit": null,
            "object_position": null,
            "order": null,
            "overflow": null,
            "overflow_x": null,
            "overflow_y": null,
            "padding": null,
            "right": null,
            "top": null,
            "visibility": null,
            "width": null
          }
        },
        "2ec3c54862324f4ab948667fcfca7b33": {
          "model_module": "@jupyter-widgets/base",
          "model_module_version": "1.2.0",
          "model_name": "LayoutModel",
          "state": {
            "_model_module": "@jupyter-widgets/base",
            "_model_module_version": "1.2.0",
            "_model_name": "LayoutModel",
            "_view_count": null,
            "_view_module": "@jupyter-widgets/base",
            "_view_module_version": "1.2.0",
            "_view_name": "LayoutView",
            "align_content": null,
            "align_items": null,
            "align_self": null,
            "border": null,
            "bottom": null,
            "display": null,
            "flex": null,
            "flex_flow": null,
            "grid_area": null,
            "grid_auto_columns": null,
            "grid_auto_flow": null,
            "grid_auto_rows": null,
            "grid_column": null,
            "grid_gap": null,
            "grid_row": null,
            "grid_template_areas": null,
            "grid_template_columns": null,
            "grid_template_rows": null,
            "height": null,
            "justify_content": null,
            "justify_items": null,
            "left": null,
            "margin": null,
            "max_height": null,
            "max_width": null,
            "min_height": null,
            "min_width": null,
            "object_fit": null,
            "object_position": null,
            "order": null,
            "overflow": null,
            "overflow_x": null,
            "overflow_y": null,
            "padding": null,
            "right": null,
            "top": null,
            "visibility": null,
            "width": null
          }
        },
        "319a0f8b53f7430fa55581248148f4c7": {
          "model_module": "@jupyter-widgets/base",
          "model_module_version": "1.2.0",
          "model_name": "LayoutModel",
          "state": {
            "_model_module": "@jupyter-widgets/base",
            "_model_module_version": "1.2.0",
            "_model_name": "LayoutModel",
            "_view_count": null,
            "_view_module": "@jupyter-widgets/base",
            "_view_module_version": "1.2.0",
            "_view_name": "LayoutView",
            "align_content": null,
            "align_items": null,
            "align_self": null,
            "border": null,
            "bottom": null,
            "display": null,
            "flex": null,
            "flex_flow": null,
            "grid_area": null,
            "grid_auto_columns": null,
            "grid_auto_flow": null,
            "grid_auto_rows": null,
            "grid_column": null,
            "grid_gap": null,
            "grid_row": null,
            "grid_template_areas": null,
            "grid_template_columns": null,
            "grid_template_rows": null,
            "height": null,
            "justify_content": null,
            "justify_items": null,
            "left": null,
            "margin": null,
            "max_height": null,
            "max_width": null,
            "min_height": null,
            "min_width": null,
            "object_fit": null,
            "object_position": null,
            "order": null,
            "overflow": null,
            "overflow_x": null,
            "overflow_y": null,
            "padding": null,
            "right": null,
            "top": null,
            "visibility": null,
            "width": null
          }
        },
        "33541c17dc3d44f4a115210a701409b9": {
          "model_module": "@jupyter-widgets/controls",
          "model_module_version": "1.5.0",
          "model_name": "ProgressStyleModel",
          "state": {
            "_model_module": "@jupyter-widgets/controls",
            "_model_module_version": "1.5.0",
            "_model_name": "ProgressStyleModel",
            "_view_count": null,
            "_view_module": "@jupyter-widgets/base",
            "_view_module_version": "1.2.0",
            "_view_name": "StyleView",
            "bar_color": null,
            "description_width": ""
          }
        },
        "34f02aa55be14481977eea55ecf1f1e7": {
          "model_module": "@jupyter-widgets/controls",
          "model_module_version": "1.5.0",
          "model_name": "DescriptionStyleModel",
          "state": {
            "_model_module": "@jupyter-widgets/controls",
            "_model_module_version": "1.5.0",
            "_model_name": "DescriptionStyleModel",
            "_view_count": null,
            "_view_module": "@jupyter-widgets/base",
            "_view_module_version": "1.2.0",
            "_view_name": "StyleView",
            "description_width": ""
          }
        },
        "3b2a5412f69b426ab87f2bdd511f846a": {
          "model_module": "@jupyter-widgets/controls",
          "model_module_version": "1.5.0",
          "model_name": "HBoxModel",
          "state": {
            "_dom_classes": [],
            "_model_module": "@jupyter-widgets/controls",
            "_model_module_version": "1.5.0",
            "_model_name": "HBoxModel",
            "_view_count": null,
            "_view_module": "@jupyter-widgets/controls",
            "_view_module_version": "1.5.0",
            "_view_name": "HBoxView",
            "box_style": "",
            "children": [
              "IPY_MODEL_2c3675264c214a759521b58fbabb87c9",
              "IPY_MODEL_4e81adb33206492cb4ecb9467d4f19ae",
              "IPY_MODEL_762f75997e6f40d295faa6e43c556ca0"
            ],
            "layout": "IPY_MODEL_cf1cbaace8d8432ca05fa2732a0aa5d0"
          }
        },
        "3f66a70ade1242958a7490a021f76712": {
          "model_module": "@jupyter-widgets/controls",
          "model_module_version": "1.5.0",
          "model_name": "FloatProgressModel",
          "state": {
            "_dom_classes": [],
            "_model_module": "@jupyter-widgets/controls",
            "_model_module_version": "1.5.0",
            "_model_name": "FloatProgressModel",
            "_view_count": null,
            "_view_module": "@jupyter-widgets/controls",
            "_view_module_version": "1.5.0",
            "_view_name": "ProgressView",
            "bar_style": "success",
            "description": "",
            "description_tooltip": null,
            "layout": "IPY_MODEL_9dbcf2a7ce494a6e8bfa5262c8a9fb68",
            "max": 20919,
            "min": 0,
            "orientation": "horizontal",
            "style": "IPY_MODEL_04cc2921df8b4f81990baaa4398a6d65",
            "value": 20919
          }
        },
        "42ac453f81374869a63aeb5551dfb366": {
          "model_module": "@jupyter-widgets/controls",
          "model_module_version": "1.5.0",
          "model_name": "HTMLModel",
          "state": {
            "_dom_classes": [],
            "_model_module": "@jupyter-widgets/controls",
            "_model_module_version": "1.5.0",
            "_model_name": "HTMLModel",
            "_view_count": null,
            "_view_module": "@jupyter-widgets/controls",
            "_view_module_version": "1.5.0",
            "_view_name": "HTMLView",
            "description": "",
            "description_tooltip": null,
            "layout": "IPY_MODEL_b6bde14832af4e35876bd28e1d9c0f8e",
            "placeholder": "​",
            "style": "IPY_MODEL_5fd145e469204d508a1c48c9b5208407",
            "value": "Downloading shards: 100%"
          }
        },
        "4496d193928c44e8921651eedba53a3b": {
          "model_module": "@jupyter-widgets/controls",
          "model_module_version": "1.5.0",
          "model_name": "DescriptionStyleModel",
          "state": {
            "_model_module": "@jupyter-widgets/controls",
            "_model_module_version": "1.5.0",
            "_model_name": "DescriptionStyleModel",
            "_view_count": null,
            "_view_module": "@jupyter-widgets/base",
            "_view_module_version": "1.2.0",
            "_view_name": "StyleView",
            "description_width": ""
          }
        },
        "45f4b0fac1fd430fbcfe0200813fa8d0": {
          "model_module": "@jupyter-widgets/controls",
          "model_module_version": "1.5.0",
          "model_name": "HTMLModel",
          "state": {
            "_dom_classes": [],
            "_model_module": "@jupyter-widgets/controls",
            "_model_module_version": "1.5.0",
            "_model_name": "HTMLModel",
            "_view_count": null,
            "_view_module": "@jupyter-widgets/controls",
            "_view_module_version": "1.5.0",
            "_view_name": "HTMLView",
            "description": "",
            "description_tooltip": null,
            "layout": "IPY_MODEL_b33a39aeb2ef4062b02cdbba87e6d914",
            "placeholder": "​",
            "style": "IPY_MODEL_7511becad65c478b8284ccf13228968d",
            "value": " 296/296 [00:00&lt;00:00, 22.3kB/s]"
          }
        },
        "48542da321984492bd50128cd82f883b": {
          "model_module": "@jupyter-widgets/base",
          "model_module_version": "1.2.0",
          "model_name": "LayoutModel",
          "state": {
            "_model_module": "@jupyter-widgets/base",
            "_model_module_version": "1.2.0",
            "_model_name": "LayoutModel",
            "_view_count": null,
            "_view_module": "@jupyter-widgets/base",
            "_view_module_version": "1.2.0",
            "_view_name": "LayoutView",
            "align_content": null,
            "align_items": null,
            "align_self": null,
            "border": null,
            "bottom": null,
            "display": null,
            "flex": null,
            "flex_flow": null,
            "grid_area": null,
            "grid_auto_columns": null,
            "grid_auto_flow": null,
            "grid_auto_rows": null,
            "grid_column": null,
            "grid_gap": null,
            "grid_row": null,
            "grid_template_areas": null,
            "grid_template_columns": null,
            "grid_template_rows": null,
            "height": null,
            "justify_content": null,
            "justify_items": null,
            "left": null,
            "margin": null,
            "max_height": null,
            "max_width": null,
            "min_height": null,
            "min_width": null,
            "object_fit": null,
            "object_position": null,
            "order": null,
            "overflow": null,
            "overflow_x": null,
            "overflow_y": null,
            "padding": null,
            "right": null,
            "top": null,
            "visibility": null,
            "width": null
          }
        },
        "496d4a4dab8d425ba86c0b19ef3b26ef": {
          "model_module": "@jupyter-widgets/controls",
          "model_module_version": "1.5.0",
          "model_name": "FloatProgressModel",
          "state": {
            "_dom_classes": [],
            "_model_module": "@jupyter-widgets/controls",
            "_model_module_version": "1.5.0",
            "_model_name": "FloatProgressModel",
            "_view_count": null,
            "_view_module": "@jupyter-widgets/controls",
            "_view_module_version": "1.5.0",
            "_view_name": "ProgressView",
            "bar_style": "success",
            "description": "",
            "description_tooltip": null,
            "layout": "IPY_MODEL_319a0f8b53f7430fa55581248148f4c7",
            "max": 54528,
            "min": 0,
            "orientation": "horizontal",
            "style": "IPY_MODEL_b2bf5ef8440b4e70802455af92e20ad7",
            "value": 54528
          }
        },
        "4d12e7e737ad438eba5927b9f498351b": {
          "model_module": "@jupyter-widgets/base",
          "model_module_version": "1.2.0",
          "model_name": "LayoutModel",
          "state": {
            "_model_module": "@jupyter-widgets/base",
            "_model_module_version": "1.2.0",
            "_model_name": "LayoutModel",
            "_view_count": null,
            "_view_module": "@jupyter-widgets/base",
            "_view_module_version": "1.2.0",
            "_view_name": "LayoutView",
            "align_content": null,
            "align_items": null,
            "align_self": null,
            "border": null,
            "bottom": null,
            "display": null,
            "flex": null,
            "flex_flow": null,
            "grid_area": null,
            "grid_auto_columns": null,
            "grid_auto_flow": null,
            "grid_auto_rows": null,
            "grid_column": null,
            "grid_gap": null,
            "grid_row": null,
            "grid_template_areas": null,
            "grid_template_columns": null,
            "grid_template_rows": null,
            "height": null,
            "justify_content": null,
            "justify_items": null,
            "left": null,
            "margin": null,
            "max_height": null,
            "max_width": null,
            "min_height": null,
            "min_width": null,
            "object_fit": null,
            "object_position": null,
            "order": null,
            "overflow": null,
            "overflow_x": null,
            "overflow_y": null,
            "padding": null,
            "right": null,
            "top": null,
            "visibility": null,
            "width": null
          }
        },
        "4d5456dcd37249979c44193979b81b7f": {
          "model_module": "@jupyter-widgets/controls",
          "model_module_version": "1.5.0",
          "model_name": "FloatProgressModel",
          "state": {
            "_dom_classes": [],
            "_model_module": "@jupyter-widgets/controls",
            "_model_module_version": "1.5.0",
            "_model_name": "FloatProgressModel",
            "_view_count": null,
            "_view_module": "@jupyter-widgets/controls",
            "_view_module_version": "1.5.0",
            "_view_name": "ProgressView",
            "bar_style": "success",
            "description": "",
            "description_tooltip": null,
            "layout": "IPY_MODEL_bbbb1149ffce46c0ab07ee4db161d736",
            "max": 878,
            "min": 0,
            "orientation": "horizontal",
            "style": "IPY_MODEL_5413cd2eda1442fe8c9f58ad447d92cd",
            "value": 878
          }
        },
        "4e81adb33206492cb4ecb9467d4f19ae": {
          "model_module": "@jupyter-widgets/controls",
          "model_module_version": "1.5.0",
          "model_name": "FloatProgressModel",
          "state": {
            "_dom_classes": [],
            "_model_module": "@jupyter-widgets/controls",
            "_model_module_version": "1.5.0",
            "_model_name": "FloatProgressModel",
            "_view_count": null,
            "_view_module": "@jupyter-widgets/controls",
            "_view_module_version": "1.5.0",
            "_view_name": "ProgressView",
            "bar_style": "success",
            "description": "",
            "description_tooltip": null,
            "layout": "IPY_MODEL_eef86b2f3fa748aab96efc77bdb990b2",
            "max": 4965799096,
            "min": 0,
            "orientation": "horizontal",
            "style": "IPY_MODEL_d8d6b81d21324d48a087437677694763",
            "value": 4965799096
          }
        },
        "5413cd2eda1442fe8c9f58ad447d92cd": {
          "model_module": "@jupyter-widgets/controls",
          "model_module_version": "1.5.0",
          "model_name": "ProgressStyleModel",
          "state": {
            "_model_module": "@jupyter-widgets/controls",
            "_model_module_version": "1.5.0",
            "_model_name": "ProgressStyleModel",
            "_view_count": null,
            "_view_module": "@jupyter-widgets/base",
            "_view_module_version": "1.2.0",
            "_view_name": "StyleView",
            "bar_color": null,
            "description_width": ""
          }
        },
        "5417b7e9cf8f40bda415d7a71f5d72e7": {
          "model_module": "@jupyter-widgets/controls",
          "model_module_version": "1.5.0",
          "model_name": "HBoxModel",
          "state": {
            "_dom_classes": [],
            "_model_module": "@jupyter-widgets/controls",
            "_model_module_version": "1.5.0",
            "_model_name": "HBoxModel",
            "_view_count": null,
            "_view_module": "@jupyter-widgets/controls",
            "_view_module_version": "1.5.0",
            "_view_name": "HBoxView",
            "box_style": "",
            "children": [
              "IPY_MODEL_960111d0572d423f8374d76a8e62e223",
              "IPY_MODEL_3f66a70ade1242958a7490a021f76712",
              "IPY_MODEL_9333192082ff406eb253d2deab05f721"
            ],
            "layout": "IPY_MODEL_f9c9f6610f944a7aa1e9e1457f95b234"
          }
        },
        "5450362f63d54def8ae9affe56eda273": {
          "model_module": "@jupyter-widgets/base",
          "model_module_version": "1.2.0",
          "model_name": "LayoutModel",
          "state": {
            "_model_module": "@jupyter-widgets/base",
            "_model_module_version": "1.2.0",
            "_model_name": "LayoutModel",
            "_view_count": null,
            "_view_module": "@jupyter-widgets/base",
            "_view_module_version": "1.2.0",
            "_view_name": "LayoutView",
            "align_content": null,
            "align_items": null,
            "align_self": null,
            "border": null,
            "bottom": null,
            "display": null,
            "flex": null,
            "flex_flow": null,
            "grid_area": null,
            "grid_auto_columns": null,
            "grid_auto_flow": null,
            "grid_auto_rows": null,
            "grid_column": null,
            "grid_gap": null,
            "grid_row": null,
            "grid_template_areas": null,
            "grid_template_columns": null,
            "grid_template_rows": null,
            "height": null,
            "justify_content": null,
            "justify_items": null,
            "left": null,
            "margin": null,
            "max_height": null,
            "max_width": null,
            "min_height": null,
            "min_width": null,
            "object_fit": null,
            "object_position": null,
            "order": null,
            "overflow": null,
            "overflow_x": null,
            "overflow_y": null,
            "padding": null,
            "right": null,
            "top": null,
            "visibility": null,
            "width": null
          }
        },
        "576adf1170f94f3f8801305fef8f982b": {
          "model_module": "@jupyter-widgets/base",
          "model_module_version": "1.2.0",
          "model_name": "LayoutModel",
          "state": {
            "_model_module": "@jupyter-widgets/base",
            "_model_module_version": "1.2.0",
            "_model_name": "LayoutModel",
            "_view_count": null,
            "_view_module": "@jupyter-widgets/base",
            "_view_module_version": "1.2.0",
            "_view_name": "LayoutView",
            "align_content": null,
            "align_items": null,
            "align_self": null,
            "border": null,
            "bottom": null,
            "display": null,
            "flex": null,
            "flex_flow": null,
            "grid_area": null,
            "grid_auto_columns": null,
            "grid_auto_flow": null,
            "grid_auto_rows": null,
            "grid_column": null,
            "grid_gap": null,
            "grid_row": null,
            "grid_template_areas": null,
            "grid_template_columns": null,
            "grid_template_rows": null,
            "height": null,
            "justify_content": null,
            "justify_items": null,
            "left": null,
            "margin": null,
            "max_height": null,
            "max_width": null,
            "min_height": null,
            "min_width": null,
            "object_fit": null,
            "object_position": null,
            "order": null,
            "overflow": null,
            "overflow_x": null,
            "overflow_y": null,
            "padding": null,
            "right": null,
            "top": null,
            "visibility": null,
            "width": null
          }
        },
        "5a500cbdfb174fc6b80973301cb4b690": {
          "model_module": "@jupyter-widgets/base",
          "model_module_version": "1.2.0",
          "model_name": "LayoutModel",
          "state": {
            "_model_module": "@jupyter-widgets/base",
            "_model_module_version": "1.2.0",
            "_model_name": "LayoutModel",
            "_view_count": null,
            "_view_module": "@jupyter-widgets/base",
            "_view_module_version": "1.2.0",
            "_view_name": "LayoutView",
            "align_content": null,
            "align_items": null,
            "align_self": null,
            "border": null,
            "bottom": null,
            "display": null,
            "flex": null,
            "flex_flow": null,
            "grid_area": null,
            "grid_auto_columns": null,
            "grid_auto_flow": null,
            "grid_auto_rows": null,
            "grid_column": null,
            "grid_gap": null,
            "grid_row": null,
            "grid_template_areas": null,
            "grid_template_columns": null,
            "grid_template_rows": null,
            "height": null,
            "justify_content": null,
            "justify_items": null,
            "left": null,
            "margin": null,
            "max_height": null,
            "max_width": null,
            "min_height": null,
            "min_width": null,
            "object_fit": null,
            "object_position": null,
            "order": null,
            "overflow": null,
            "overflow_x": null,
            "overflow_y": null,
            "padding": null,
            "right": null,
            "top": null,
            "visibility": null,
            "width": null
          }
        },
        "5b568d99d2eb48018a1e8f7b1c42d3af": {
          "model_module": "@jupyter-widgets/base",
          "model_module_version": "1.2.0",
          "model_name": "LayoutModel",
          "state": {
            "_model_module": "@jupyter-widgets/base",
            "_model_module_version": "1.2.0",
            "_model_name": "LayoutModel",
            "_view_count": null,
            "_view_module": "@jupyter-widgets/base",
            "_view_module_version": "1.2.0",
            "_view_name": "LayoutView",
            "align_content": null,
            "align_items": null,
            "align_self": null,
            "border": null,
            "bottom": null,
            "display": null,
            "flex": null,
            "flex_flow": null,
            "grid_area": null,
            "grid_auto_columns": null,
            "grid_auto_flow": null,
            "grid_auto_rows": null,
            "grid_column": null,
            "grid_gap": null,
            "grid_row": null,
            "grid_template_areas": null,
            "grid_template_columns": null,
            "grid_template_rows": null,
            "height": null,
            "justify_content": null,
            "justify_items": null,
            "left": null,
            "margin": null,
            "max_height": null,
            "max_width": null,
            "min_height": null,
            "min_width": null,
            "object_fit": null,
            "object_position": null,
            "order": null,
            "overflow": null,
            "overflow_x": null,
            "overflow_y": null,
            "padding": null,
            "right": null,
            "top": null,
            "visibility": null,
            "width": null
          }
        },
        "5c21bd87e7fd43bdbad6650844739424": {
          "model_module": "@jupyter-widgets/base",
          "model_module_version": "1.2.0",
          "model_name": "LayoutModel",
          "state": {
            "_model_module": "@jupyter-widgets/base",
            "_model_module_version": "1.2.0",
            "_model_name": "LayoutModel",
            "_view_count": null,
            "_view_module": "@jupyter-widgets/base",
            "_view_module_version": "1.2.0",
            "_view_name": "LayoutView",
            "align_content": null,
            "align_items": null,
            "align_self": null,
            "border": null,
            "bottom": null,
            "display": null,
            "flex": null,
            "flex_flow": null,
            "grid_area": null,
            "grid_auto_columns": null,
            "grid_auto_flow": null,
            "grid_auto_rows": null,
            "grid_column": null,
            "grid_gap": null,
            "grid_row": null,
            "grid_template_areas": null,
            "grid_template_columns": null,
            "grid_template_rows": null,
            "height": null,
            "justify_content": null,
            "justify_items": null,
            "left": null,
            "margin": null,
            "max_height": null,
            "max_width": null,
            "min_height": null,
            "min_width": null,
            "object_fit": null,
            "object_position": null,
            "order": null,
            "overflow": null,
            "overflow_x": null,
            "overflow_y": null,
            "padding": null,
            "right": null,
            "top": null,
            "visibility": null,
            "width": null
          }
        },
        "5fd145e469204d508a1c48c9b5208407": {
          "model_module": "@jupyter-widgets/controls",
          "model_module_version": "1.5.0",
          "model_name": "DescriptionStyleModel",
          "state": {
            "_model_module": "@jupyter-widgets/controls",
            "_model_module_version": "1.5.0",
            "_model_name": "DescriptionStyleModel",
            "_view_count": null,
            "_view_module": "@jupyter-widgets/base",
            "_view_module_version": "1.2.0",
            "_view_name": "StyleView",
            "description_width": ""
          }
        },
        "68c560b8995149c5b399e74f91a8e4f5": {
          "model_module": "@jupyter-widgets/base",
          "model_module_version": "1.2.0",
          "model_name": "LayoutModel",
          "state": {
            "_model_module": "@jupyter-widgets/base",
            "_model_module_version": "1.2.0",
            "_model_name": "LayoutModel",
            "_view_count": null,
            "_view_module": "@jupyter-widgets/base",
            "_view_module_version": "1.2.0",
            "_view_name": "LayoutView",
            "align_content": null,
            "align_items": null,
            "align_self": null,
            "border": null,
            "bottom": null,
            "display": null,
            "flex": null,
            "flex_flow": null,
            "grid_area": null,
            "grid_auto_columns": null,
            "grid_auto_flow": null,
            "grid_auto_rows": null,
            "grid_column": null,
            "grid_gap": null,
            "grid_row": null,
            "grid_template_areas": null,
            "grid_template_columns": null,
            "grid_template_rows": null,
            "height": null,
            "justify_content": null,
            "justify_items": null,
            "left": null,
            "margin": null,
            "max_height": null,
            "max_width": null,
            "min_height": null,
            "min_width": null,
            "object_fit": null,
            "object_position": null,
            "order": null,
            "overflow": null,
            "overflow_x": null,
            "overflow_y": null,
            "padding": null,
            "right": null,
            "top": null,
            "visibility": null,
            "width": null
          }
        },
        "6936f605710c4ea6a909c9c5832054f8": {
          "model_module": "@jupyter-widgets/controls",
          "model_module_version": "1.5.0",
          "model_name": "HTMLModel",
          "state": {
            "_dom_classes": [],
            "_model_module": "@jupyter-widgets/controls",
            "_model_module_version": "1.5.0",
            "_model_name": "HTMLModel",
            "_view_count": null,
            "_view_module": "@jupyter-widgets/controls",
            "_view_module_version": "1.5.0",
            "_view_name": "HTMLView",
            "description": "",
            "description_tooltip": null,
            "layout": "IPY_MODEL_2115a9a634d24023a70cca458de6963d",
            "placeholder": "​",
            "style": "IPY_MODEL_9e540be3f5954885ab5373be64a0cde2",
            "value": " 189/189 [00:00&lt;00:00, 4.21kB/s]"
          }
        },
        "6baa126adfe044d084c0afb73b078203": {
          "model_module": "@jupyter-widgets/controls",
          "model_module_version": "1.5.0",
          "model_name": "ProgressStyleModel",
          "state": {
            "_model_module": "@jupyter-widgets/controls",
            "_model_module_version": "1.5.0",
            "_model_name": "ProgressStyleModel",
            "_view_count": null,
            "_view_module": "@jupyter-widgets/base",
            "_view_module_version": "1.2.0",
            "_view_name": "StyleView",
            "bar_color": null,
            "description_width": ""
          }
        },
        "6ccbfef71c844161bdc3e9fad5a4f65d": {
          "model_module": "@jupyter-widgets/base",
          "model_module_version": "1.2.0",
          "model_name": "LayoutModel",
          "state": {
            "_model_module": "@jupyter-widgets/base",
            "_model_module_version": "1.2.0",
            "_model_name": "LayoutModel",
            "_view_count": null,
            "_view_module": "@jupyter-widgets/base",
            "_view_module_version": "1.2.0",
            "_view_name": "LayoutView",
            "align_content": null,
            "align_items": null,
            "align_self": null,
            "border": null,
            "bottom": null,
            "display": null,
            "flex": null,
            "flex_flow": null,
            "grid_area": null,
            "grid_auto_columns": null,
            "grid_auto_flow": null,
            "grid_auto_rows": null,
            "grid_column": null,
            "grid_gap": null,
            "grid_row": null,
            "grid_template_areas": null,
            "grid_template_columns": null,
            "grid_template_rows": null,
            "height": null,
            "justify_content": null,
            "justify_items": null,
            "left": null,
            "margin": null,
            "max_height": null,
            "max_width": null,
            "min_height": null,
            "min_width": null,
            "object_fit": null,
            "object_position": null,
            "order": null,
            "overflow": null,
            "overflow_x": null,
            "overflow_y": null,
            "padding": null,
            "right": null,
            "top": null,
            "visibility": null,
            "width": null
          }
        },
        "6e6dddc76dda4c6697d46f37c274ffbb": {
          "model_module": "@jupyter-widgets/controls",
          "model_module_version": "1.5.0",
          "model_name": "HBoxModel",
          "state": {
            "_dom_classes": [],
            "_model_module": "@jupyter-widgets/controls",
            "_model_module_version": "1.5.0",
            "_model_name": "HBoxModel",
            "_view_count": null,
            "_view_module": "@jupyter-widgets/controls",
            "_view_module_version": "1.5.0",
            "_view_name": "HBoxView",
            "box_style": "",
            "children": [
              "IPY_MODEL_ce7dddc1c2a34b3cba734ad8f0292463",
              "IPY_MODEL_4d5456dcd37249979c44193979b81b7f",
              "IPY_MODEL_c320b24429444e71896459108c289df8"
            ],
            "layout": "IPY_MODEL_82566ff3fac144359162223edbb6436f"
          }
        },
        "71238f16ad7947d690c678f03d4201e5": {
          "model_module": "@jupyter-widgets/controls",
          "model_module_version": "1.5.0",
          "model_name": "DescriptionStyleModel",
          "state": {
            "_model_module": "@jupyter-widgets/controls",
            "_model_module_version": "1.5.0",
            "_model_name": "DescriptionStyleModel",
            "_view_count": null,
            "_view_module": "@jupyter-widgets/base",
            "_view_module_version": "1.2.0",
            "_view_name": "StyleView",
            "description_width": ""
          }
        },
        "7511becad65c478b8284ccf13228968d": {
          "model_module": "@jupyter-widgets/controls",
          "model_module_version": "1.5.0",
          "model_name": "DescriptionStyleModel",
          "state": {
            "_model_module": "@jupyter-widgets/controls",
            "_model_module_version": "1.5.0",
            "_model_name": "DescriptionStyleModel",
            "_view_count": null,
            "_view_module": "@jupyter-widgets/base",
            "_view_module_version": "1.2.0",
            "_view_name": "StyleView",
            "description_width": ""
          }
        },
        "752fa233add94904a9d36f2d4bf0318b": {
          "model_module": "@jupyter-widgets/controls",
          "model_module_version": "1.5.0",
          "model_name": "DescriptionStyleModel",
          "state": {
            "_model_module": "@jupyter-widgets/controls",
            "_model_module_version": "1.5.0",
            "_model_name": "DescriptionStyleModel",
            "_view_count": null,
            "_view_module": "@jupyter-widgets/base",
            "_view_module_version": "1.2.0",
            "_view_name": "StyleView",
            "description_width": ""
          }
        },
        "762f75997e6f40d295faa6e43c556ca0": {
          "model_module": "@jupyter-widgets/controls",
          "model_module_version": "1.5.0",
          "model_name": "HTMLModel",
          "state": {
            "_dom_classes": [],
            "_model_module": "@jupyter-widgets/controls",
            "_model_module_version": "1.5.0",
            "_model_name": "HTMLModel",
            "_view_count": null,
            "_view_module": "@jupyter-widgets/controls",
            "_view_module_version": "1.5.0",
            "_view_name": "HTMLView",
            "description": "",
            "description_tooltip": null,
            "layout": "IPY_MODEL_b30f250cf63c419ab4a614e1627ff8b2",
            "placeholder": "​",
            "style": "IPY_MODEL_143fe69d99c344579b0d281a7b31793b",
            "value": " 4.97G/4.97G [01:58&lt;00:00, 42.7MB/s]"
          }
        },
        "769ee7df586240c09b8634ab858817b2": {
          "model_module": "@jupyter-widgets/controls",
          "model_module_version": "1.5.0",
          "model_name": "HBoxModel",
          "state": {
            "_dom_classes": [],
            "_model_module": "@jupyter-widgets/controls",
            "_model_module_version": "1.5.0",
            "_model_name": "HBoxModel",
            "_view_count": null,
            "_view_module": "@jupyter-widgets/controls",
            "_view_module_version": "1.5.0",
            "_view_name": "HBoxView",
            "box_style": "",
            "children": [
              "IPY_MODEL_0891a99969244801946294471bf09a85",
              "IPY_MODEL_496d4a4dab8d425ba86c0b19ef3b26ef",
              "IPY_MODEL_e7bfa071923d4f5c8bad949edaf1ea50"
            ],
            "layout": "IPY_MODEL_0c4f25b904a94227a21a6359bff86ce0"
          }
        },
        "790a8136b091427c8f7d1c44770cfa6a": {
          "model_module": "@jupyter-widgets/base",
          "model_module_version": "1.2.0",
          "model_name": "LayoutModel",
          "state": {
            "_model_module": "@jupyter-widgets/base",
            "_model_module_version": "1.2.0",
            "_model_name": "LayoutModel",
            "_view_count": null,
            "_view_module": "@jupyter-widgets/base",
            "_view_module_version": "1.2.0",
            "_view_name": "LayoutView",
            "align_content": null,
            "align_items": null,
            "align_self": null,
            "border": null,
            "bottom": null,
            "display": null,
            "flex": null,
            "flex_flow": null,
            "grid_area": null,
            "grid_auto_columns": null,
            "grid_auto_flow": null,
            "grid_auto_rows": null,
            "grid_column": null,
            "grid_gap": null,
            "grid_row": null,
            "grid_template_areas": null,
            "grid_template_columns": null,
            "grid_template_rows": null,
            "height": null,
            "justify_content": null,
            "justify_items": null,
            "left": null,
            "margin": null,
            "max_height": null,
            "max_width": null,
            "min_height": null,
            "min_width": null,
            "object_fit": null,
            "object_position": null,
            "order": null,
            "overflow": null,
            "overflow_x": null,
            "overflow_y": null,
            "padding": null,
            "right": null,
            "top": null,
            "visibility": null,
            "width": null
          }
        },
        "80242711ae9e4aa399e69ccef28bc76f": {
          "model_module": "@jupyter-widgets/base",
          "model_module_version": "1.2.0",
          "model_name": "LayoutModel",
          "state": {
            "_model_module": "@jupyter-widgets/base",
            "_model_module_version": "1.2.0",
            "_model_name": "LayoutModel",
            "_view_count": null,
            "_view_module": "@jupyter-widgets/base",
            "_view_module_version": "1.2.0",
            "_view_name": "LayoutView",
            "align_content": null,
            "align_items": null,
            "align_self": null,
            "border": null,
            "bottom": null,
            "display": null,
            "flex": null,
            "flex_flow": null,
            "grid_area": null,
            "grid_auto_columns": null,
            "grid_auto_flow": null,
            "grid_auto_rows": null,
            "grid_column": null,
            "grid_gap": null,
            "grid_row": null,
            "grid_template_areas": null,
            "grid_template_columns": null,
            "grid_template_rows": null,
            "height": null,
            "justify_content": null,
            "justify_items": null,
            "left": null,
            "margin": null,
            "max_height": null,
            "max_width": null,
            "min_height": null,
            "min_width": null,
            "object_fit": null,
            "object_position": null,
            "order": null,
            "overflow": null,
            "overflow_x": null,
            "overflow_y": null,
            "padding": null,
            "right": null,
            "top": null,
            "visibility": null,
            "width": null
          }
        },
        "815171f14a324fa6b13e18a100b02a8e": {
          "model_module": "@jupyter-widgets/base",
          "model_module_version": "1.2.0",
          "model_name": "LayoutModel",
          "state": {
            "_model_module": "@jupyter-widgets/base",
            "_model_module_version": "1.2.0",
            "_model_name": "LayoutModel",
            "_view_count": null,
            "_view_module": "@jupyter-widgets/base",
            "_view_module_version": "1.2.0",
            "_view_name": "LayoutView",
            "align_content": null,
            "align_items": null,
            "align_self": null,
            "border": null,
            "bottom": null,
            "display": null,
            "flex": null,
            "flex_flow": null,
            "grid_area": null,
            "grid_auto_columns": null,
            "grid_auto_flow": null,
            "grid_auto_rows": null,
            "grid_column": null,
            "grid_gap": null,
            "grid_row": null,
            "grid_template_areas": null,
            "grid_template_columns": null,
            "grid_template_rows": null,
            "height": null,
            "justify_content": null,
            "justify_items": null,
            "left": null,
            "margin": null,
            "max_height": null,
            "max_width": null,
            "min_height": null,
            "min_width": null,
            "object_fit": null,
            "object_position": null,
            "order": null,
            "overflow": null,
            "overflow_x": null,
            "overflow_y": null,
            "padding": null,
            "right": null,
            "top": null,
            "visibility": null,
            "width": null
          }
        },
        "816a9911e8bb4878a05adbdebcd3f60f": {
          "model_module": "@jupyter-widgets/base",
          "model_module_version": "1.2.0",
          "model_name": "LayoutModel",
          "state": {
            "_model_module": "@jupyter-widgets/base",
            "_model_module_version": "1.2.0",
            "_model_name": "LayoutModel",
            "_view_count": null,
            "_view_module": "@jupyter-widgets/base",
            "_view_module_version": "1.2.0",
            "_view_name": "LayoutView",
            "align_content": null,
            "align_items": null,
            "align_self": null,
            "border": null,
            "bottom": null,
            "display": null,
            "flex": null,
            "flex_flow": null,
            "grid_area": null,
            "grid_auto_columns": null,
            "grid_auto_flow": null,
            "grid_auto_rows": null,
            "grid_column": null,
            "grid_gap": null,
            "grid_row": null,
            "grid_template_areas": null,
            "grid_template_columns": null,
            "grid_template_rows": null,
            "height": null,
            "justify_content": null,
            "justify_items": null,
            "left": null,
            "margin": null,
            "max_height": null,
            "max_width": null,
            "min_height": null,
            "min_width": null,
            "object_fit": null,
            "object_position": null,
            "order": null,
            "overflow": null,
            "overflow_x": null,
            "overflow_y": null,
            "padding": null,
            "right": null,
            "top": null,
            "visibility": null,
            "width": null
          }
        },
        "82566ff3fac144359162223edbb6436f": {
          "model_module": "@jupyter-widgets/base",
          "model_module_version": "1.2.0",
          "model_name": "LayoutModel",
          "state": {
            "_model_module": "@jupyter-widgets/base",
            "_model_module_version": "1.2.0",
            "_model_name": "LayoutModel",
            "_view_count": null,
            "_view_module": "@jupyter-widgets/base",
            "_view_module_version": "1.2.0",
            "_view_name": "LayoutView",
            "align_content": null,
            "align_items": null,
            "align_self": null,
            "border": null,
            "bottom": null,
            "display": null,
            "flex": null,
            "flex_flow": null,
            "grid_area": null,
            "grid_auto_columns": null,
            "grid_auto_flow": null,
            "grid_auto_rows": null,
            "grid_column": null,
            "grid_gap": null,
            "grid_row": null,
            "grid_template_areas": null,
            "grid_template_columns": null,
            "grid_template_rows": null,
            "height": null,
            "justify_content": null,
            "justify_items": null,
            "left": null,
            "margin": null,
            "max_height": null,
            "max_width": null,
            "min_height": null,
            "min_width": null,
            "object_fit": null,
            "object_position": null,
            "order": null,
            "overflow": null,
            "overflow_x": null,
            "overflow_y": null,
            "padding": null,
            "right": null,
            "top": null,
            "visibility": null,
            "width": null
          }
        },
        "839e952175154904b2c759b0fa112107": {
          "model_module": "@jupyter-widgets/controls",
          "model_module_version": "1.5.0",
          "model_name": "DescriptionStyleModel",
          "state": {
            "_model_module": "@jupyter-widgets/controls",
            "_model_module_version": "1.5.0",
            "_model_name": "DescriptionStyleModel",
            "_view_count": null,
            "_view_module": "@jupyter-widgets/base",
            "_view_module_version": "1.2.0",
            "_view_name": "StyleView",
            "description_width": ""
          }
        },
        "8518788f9dc24b83ab92b46a38882708": {
          "model_module": "@jupyter-widgets/base",
          "model_module_version": "1.2.0",
          "model_name": "LayoutModel",
          "state": {
            "_model_module": "@jupyter-widgets/base",
            "_model_module_version": "1.2.0",
            "_model_name": "LayoutModel",
            "_view_count": null,
            "_view_module": "@jupyter-widgets/base",
            "_view_module_version": "1.2.0",
            "_view_name": "LayoutView",
            "align_content": null,
            "align_items": null,
            "align_self": null,
            "border": null,
            "bottom": null,
            "display": null,
            "flex": null,
            "flex_flow": null,
            "grid_area": null,
            "grid_auto_columns": null,
            "grid_auto_flow": null,
            "grid_auto_rows": null,
            "grid_column": null,
            "grid_gap": null,
            "grid_row": null,
            "grid_template_areas": null,
            "grid_template_columns": null,
            "grid_template_rows": null,
            "height": null,
            "justify_content": null,
            "justify_items": null,
            "left": null,
            "margin": null,
            "max_height": null,
            "max_width": null,
            "min_height": null,
            "min_width": null,
            "object_fit": null,
            "object_position": null,
            "order": null,
            "overflow": null,
            "overflow_x": null,
            "overflow_y": null,
            "padding": null,
            "right": null,
            "top": null,
            "visibility": null,
            "width": null
          }
        },
        "8583f15a819f4b2ab5e8159c42c460b2": {
          "model_module": "@jupyter-widgets/controls",
          "model_module_version": "1.5.0",
          "model_name": "DescriptionStyleModel",
          "state": {
            "_model_module": "@jupyter-widgets/controls",
            "_model_module_version": "1.5.0",
            "_model_name": "DescriptionStyleModel",
            "_view_count": null,
            "_view_module": "@jupyter-widgets/base",
            "_view_module_version": "1.2.0",
            "_view_name": "StyleView",
            "description_width": ""
          }
        },
        "86f66b270db64a3cacbf7482b46130ad": {
          "model_module": "@jupyter-widgets/controls",
          "model_module_version": "1.5.0",
          "model_name": "DescriptionStyleModel",
          "state": {
            "_model_module": "@jupyter-widgets/controls",
            "_model_module_version": "1.5.0",
            "_model_name": "DescriptionStyleModel",
            "_view_count": null,
            "_view_module": "@jupyter-widgets/base",
            "_view_module_version": "1.2.0",
            "_view_name": "StyleView",
            "description_width": ""
          }
        },
        "8be4c4a8e5944af3859e983f19ca3dec": {
          "model_module": "@jupyter-widgets/controls",
          "model_module_version": "1.5.0",
          "model_name": "HTMLModel",
          "state": {
            "_dom_classes": [],
            "_model_module": "@jupyter-widgets/controls",
            "_model_module_version": "1.5.0",
            "_model_name": "HTMLModel",
            "_view_count": null,
            "_view_module": "@jupyter-widgets/controls",
            "_view_module_version": "1.5.0",
            "_view_name": "HTMLView",
            "description": "",
            "description_tooltip": null,
            "layout": "IPY_MODEL_5c21bd87e7fd43bdbad6650844739424",
            "placeholder": "​",
            "style": "IPY_MODEL_34f02aa55be14481977eea55ecf1f1e7",
            "value": " 2/2 [02:33&lt;00:00, 69.11s/it]"
          }
        },
        "9255cf23ee3d4a2a862f767e2bb11af2": {
          "model_module": "@jupyter-widgets/base",
          "model_module_version": "1.2.0",
          "model_name": "LayoutModel",
          "state": {
            "_model_module": "@jupyter-widgets/base",
            "_model_module_version": "1.2.0",
            "_model_name": "LayoutModel",
            "_view_count": null,
            "_view_module": "@jupyter-widgets/base",
            "_view_module_version": "1.2.0",
            "_view_name": "LayoutView",
            "align_content": null,
            "align_items": null,
            "align_self": null,
            "border": null,
            "bottom": null,
            "display": null,
            "flex": null,
            "flex_flow": null,
            "grid_area": null,
            "grid_auto_columns": null,
            "grid_auto_flow": null,
            "grid_auto_rows": null,
            "grid_column": null,
            "grid_gap": null,
            "grid_row": null,
            "grid_template_areas": null,
            "grid_template_columns": null,
            "grid_template_rows": null,
            "height": null,
            "justify_content": null,
            "justify_items": null,
            "left": null,
            "margin": null,
            "max_height": null,
            "max_width": null,
            "min_height": null,
            "min_width": null,
            "object_fit": null,
            "object_position": null,
            "order": null,
            "overflow": null,
            "overflow_x": null,
            "overflow_y": null,
            "padding": null,
            "right": null,
            "top": null,
            "visibility": null,
            "width": null
          }
        },
        "9333192082ff406eb253d2deab05f721": {
          "model_module": "@jupyter-widgets/controls",
          "model_module_version": "1.5.0",
          "model_name": "HTMLModel",
          "state": {
            "_dom_classes": [],
            "_model_module": "@jupyter-widgets/controls",
            "_model_module_version": "1.5.0",
            "_model_name": "HTMLModel",
            "_view_count": null,
            "_view_module": "@jupyter-widgets/controls",
            "_view_module_version": "1.5.0",
            "_view_name": "HTMLView",
            "description": "",
            "description_tooltip": null,
            "layout": "IPY_MODEL_48542da321984492bd50128cd82f883b",
            "placeholder": "​",
            "style": "IPY_MODEL_752fa233add94904a9d36f2d4bf0318b",
            "value": " 20.9k/20.9k [00:00&lt;00:00, 719kB/s]"
          }
        },
        "960111d0572d423f8374d76a8e62e223": {
          "model_module": "@jupyter-widgets/controls",
          "model_module_version": "1.5.0",
          "model_name": "HTMLModel",
          "state": {
            "_dom_classes": [],
            "_model_module": "@jupyter-widgets/controls",
            "_model_module_version": "1.5.0",
            "_model_name": "HTMLModel",
            "_view_count": null,
            "_view_module": "@jupyter-widgets/controls",
            "_view_module_version": "1.5.0",
            "_view_name": "HTMLView",
            "description": "",
            "description_tooltip": null,
            "layout": "IPY_MODEL_2ec3c54862324f4ab948667fcfca7b33",
            "placeholder": "​",
            "style": "IPY_MODEL_cb5bbd4048af4ba78cbbc2c93f2044af",
            "value": "model.safetensors.index.json: 100%"
          }
        },
        "980d2eb8fc81443c836c11dc6dcee5b1": {
          "model_module": "@jupyter-widgets/controls",
          "model_module_version": "1.5.0",
          "model_name": "HBoxModel",
          "state": {
            "_dom_classes": [],
            "_model_module": "@jupyter-widgets/controls",
            "_model_module_version": "1.5.0",
            "_model_name": "HBoxModel",
            "_view_count": null,
            "_view_module": "@jupyter-widgets/controls",
            "_view_module_version": "1.5.0",
            "_view_name": "HBoxView",
            "box_style": "",
            "children": [
              "IPY_MODEL_a258102afb2046d0ace6f1c71d894c40",
              "IPY_MODEL_08d45a6ace0f48a4813c6a2787b9b404",
              "IPY_MODEL_1480ae658e97463b949438f70dd9da3e"
            ],
            "layout": "IPY_MODEL_5450362f63d54def8ae9affe56eda273"
          }
        },
        "9cad1ec2dca541588b5af3a159f1b38e": {
          "model_module": "@jupyter-widgets/controls",
          "model_module_version": "1.5.0",
          "model_name": "HTMLModel",
          "state": {
            "_dom_classes": [],
            "_model_module": "@jupyter-widgets/controls",
            "_model_module_version": "1.5.0",
            "_model_name": "HTMLModel",
            "_view_count": null,
            "_view_module": "@jupyter-widgets/controls",
            "_view_module_version": "1.5.0",
            "_view_name": "HTMLView",
            "description": "",
            "description_tooltip": null,
            "layout": "IPY_MODEL_dc9634b817ed4fd8a2b68eacdb9b471a",
            "placeholder": "​",
            "style": "IPY_MODEL_fdc0b10b45ff47dba930766d859e940b",
            "value": " 2/2 [00:27&lt;00:00, 12.61s/it]"
          }
        },
        "9dbcf2a7ce494a6e8bfa5262c8a9fb68": {
          "model_module": "@jupyter-widgets/base",
          "model_module_version": "1.2.0",
          "model_name": "LayoutModel",
          "state": {
            "_model_module": "@jupyter-widgets/base",
            "_model_module_version": "1.2.0",
            "_model_name": "LayoutModel",
            "_view_count": null,
            "_view_module": "@jupyter-widgets/base",
            "_view_module_version": "1.2.0",
            "_view_name": "LayoutView",
            "align_content": null,
            "align_items": null,
            "align_self": null,
            "border": null,
            "bottom": null,
            "display": null,
            "flex": null,
            "flex_flow": null,
            "grid_area": null,
            "grid_auto_columns": null,
            "grid_auto_flow": null,
            "grid_auto_rows": null,
            "grid_column": null,
            "grid_gap": null,
            "grid_row": null,
            "grid_template_areas": null,
            "grid_template_columns": null,
            "grid_template_rows": null,
            "height": null,
            "justify_content": null,
            "justify_items": null,
            "left": null,
            "margin": null,
            "max_height": null,
            "max_width": null,
            "min_height": null,
            "min_width": null,
            "object_fit": null,
            "object_position": null,
            "order": null,
            "overflow": null,
            "overflow_x": null,
            "overflow_y": null,
            "padding": null,
            "right": null,
            "top": null,
            "visibility": null,
            "width": null
          }
        },
        "9e540be3f5954885ab5373be64a0cde2": {
          "model_module": "@jupyter-widgets/controls",
          "model_module_version": "1.5.0",
          "model_name": "DescriptionStyleModel",
          "state": {
            "_model_module": "@jupyter-widgets/controls",
            "_model_module_version": "1.5.0",
            "_model_name": "DescriptionStyleModel",
            "_view_count": null,
            "_view_module": "@jupyter-widgets/base",
            "_view_module_version": "1.2.0",
            "_view_name": "StyleView",
            "description_width": ""
          }
        },
        "9f21c660e24f4b8f8e5f2dae4512741e": {
          "model_module": "@jupyter-widgets/base",
          "model_module_version": "1.2.0",
          "model_name": "LayoutModel",
          "state": {
            "_model_module": "@jupyter-widgets/base",
            "_model_module_version": "1.2.0",
            "_model_name": "LayoutModel",
            "_view_count": null,
            "_view_module": "@jupyter-widgets/base",
            "_view_module_version": "1.2.0",
            "_view_name": "LayoutView",
            "align_content": null,
            "align_items": null,
            "align_self": null,
            "border": null,
            "bottom": null,
            "display": null,
            "flex": null,
            "flex_flow": null,
            "grid_area": null,
            "grid_auto_columns": null,
            "grid_auto_flow": null,
            "grid_auto_rows": null,
            "grid_column": null,
            "grid_gap": null,
            "grid_row": null,
            "grid_template_areas": null,
            "grid_template_columns": null,
            "grid_template_rows": null,
            "height": null,
            "justify_content": null,
            "justify_items": null,
            "left": null,
            "margin": null,
            "max_height": null,
            "max_width": null,
            "min_height": null,
            "min_width": null,
            "object_fit": null,
            "object_position": null,
            "order": null,
            "overflow": null,
            "overflow_x": null,
            "overflow_y": null,
            "padding": null,
            "right": null,
            "top": null,
            "visibility": null,
            "width": null
          }
        },
        "a258102afb2046d0ace6f1c71d894c40": {
          "model_module": "@jupyter-widgets/controls",
          "model_module_version": "1.5.0",
          "model_name": "HTMLModel",
          "state": {
            "_dom_classes": [],
            "_model_module": "@jupyter-widgets/controls",
            "_model_module_version": "1.5.0",
            "_model_name": "HTMLModel",
            "_view_count": null,
            "_view_module": "@jupyter-widgets/controls",
            "_view_module_version": "1.5.0",
            "_view_name": "HTMLView",
            "description": "",
            "description_tooltip": null,
            "layout": "IPY_MODEL_790a8136b091427c8f7d1c44770cfa6a",
            "placeholder": "​",
            "style": "IPY_MODEL_a7df63d8960d4484af7a76e6c0c5e979",
            "value": "model-00002-of-00002.safetensors: 100%"
          }
        },
        "a26e790a1bf5471faed1c1bd4b97f369": {
          "model_module": "@jupyter-widgets/controls",
          "model_module_version": "1.5.0",
          "model_name": "HTMLModel",
          "state": {
            "_dom_classes": [],
            "_model_module": "@jupyter-widgets/controls",
            "_model_module_version": "1.5.0",
            "_model_name": "HTMLModel",
            "_view_count": null,
            "_view_module": "@jupyter-widgets/controls",
            "_view_module_version": "1.5.0",
            "_view_name": "HTMLView",
            "description": "",
            "description_tooltip": null,
            "layout": "IPY_MODEL_815171f14a324fa6b13e18a100b02a8e",
            "placeholder": "​",
            "style": "IPY_MODEL_f8ffd300b81449189f09b2459f161787",
            "value": "Loading checkpoint shards: 100%"
          }
        },
        "a38b2d2fcc174edebab6b72b5c4e3967": {
          "model_module": "@jupyter-widgets/controls",
          "model_module_version": "1.5.0",
          "model_name": "HBoxModel",
          "state": {
            "_dom_classes": [],
            "_model_module": "@jupyter-widgets/controls",
            "_model_module_version": "1.5.0",
            "_model_name": "HBoxModel",
            "_view_count": null,
            "_view_module": "@jupyter-widgets/controls",
            "_view_module_version": "1.5.0",
            "_view_name": "HBoxView",
            "box_style": "",
            "children": [
              "IPY_MODEL_ac8b7eafa9724414b540f3fd346fd48b",
              "IPY_MODEL_ccb29e9f01c241258be7185ebc3a3889",
              "IPY_MODEL_45f4b0fac1fd430fbcfe0200813fa8d0"
            ],
            "layout": "IPY_MODEL_6ccbfef71c844161bdc3e9fad5a4f65d"
          }
        },
        "a7df63d8960d4484af7a76e6c0c5e979": {
          "model_module": "@jupyter-widgets/controls",
          "model_module_version": "1.5.0",
          "model_name": "DescriptionStyleModel",
          "state": {
            "_model_module": "@jupyter-widgets/controls",
            "_model_module_version": "1.5.0",
            "_model_name": "DescriptionStyleModel",
            "_view_count": null,
            "_view_module": "@jupyter-widgets/base",
            "_view_module_version": "1.2.0",
            "_view_name": "StyleView",
            "description_width": ""
          }
        },
        "ac8b7eafa9724414b540f3fd346fd48b": {
          "model_module": "@jupyter-widgets/controls",
          "model_module_version": "1.5.0",
          "model_name": "HTMLModel",
          "state": {
            "_dom_classes": [],
            "_model_module": "@jupyter-widgets/controls",
            "_model_module_version": "1.5.0",
            "_model_name": "HTMLModel",
            "_view_count": null,
            "_view_module": "@jupyter-widgets/controls",
            "_view_module_version": "1.5.0",
            "_view_name": "HTMLView",
            "description": "",
            "description_tooltip": null,
            "layout": "IPY_MODEL_2a2fd2a632b146f781bf6c47a325a58a",
            "placeholder": "​",
            "style": "IPY_MODEL_0d18008bd6da4f22be3a74a4c9580d64",
            "value": "special_tokens_map.json: 100%"
          }
        },
        "af8880bba8c74f96995b38f0739bd4ac": {
          "model_module": "@jupyter-widgets/base",
          "model_module_version": "1.2.0",
          "model_name": "LayoutModel",
          "state": {
            "_model_module": "@jupyter-widgets/base",
            "_model_module_version": "1.2.0",
            "_model_name": "LayoutModel",
            "_view_count": null,
            "_view_module": "@jupyter-widgets/base",
            "_view_module_version": "1.2.0",
            "_view_name": "LayoutView",
            "align_content": null,
            "align_items": null,
            "align_self": null,
            "border": null,
            "bottom": null,
            "display": null,
            "flex": null,
            "flex_flow": null,
            "grid_area": null,
            "grid_auto_columns": null,
            "grid_auto_flow": null,
            "grid_auto_rows": null,
            "grid_column": null,
            "grid_gap": null,
            "grid_row": null,
            "grid_template_areas": null,
            "grid_template_columns": null,
            "grid_template_rows": null,
            "height": null,
            "justify_content": null,
            "justify_items": null,
            "left": null,
            "margin": null,
            "max_height": null,
            "max_width": null,
            "min_height": null,
            "min_width": null,
            "object_fit": null,
            "object_position": null,
            "order": null,
            "overflow": null,
            "overflow_x": null,
            "overflow_y": null,
            "padding": null,
            "right": null,
            "top": null,
            "visibility": null,
            "width": null
          }
        },
        "b2bf5ef8440b4e70802455af92e20ad7": {
          "model_module": "@jupyter-widgets/controls",
          "model_module_version": "1.5.0",
          "model_name": "ProgressStyleModel",
          "state": {
            "_model_module": "@jupyter-widgets/controls",
            "_model_module_version": "1.5.0",
            "_model_name": "ProgressStyleModel",
            "_view_count": null,
            "_view_module": "@jupyter-widgets/base",
            "_view_module_version": "1.2.0",
            "_view_name": "StyleView",
            "bar_color": null,
            "description_width": ""
          }
        },
        "b30f250cf63c419ab4a614e1627ff8b2": {
          "model_module": "@jupyter-widgets/base",
          "model_module_version": "1.2.0",
          "model_name": "LayoutModel",
          "state": {
            "_model_module": "@jupyter-widgets/base",
            "_model_module_version": "1.2.0",
            "_model_name": "LayoutModel",
            "_view_count": null,
            "_view_module": "@jupyter-widgets/base",
            "_view_module_version": "1.2.0",
            "_view_name": "LayoutView",
            "align_content": null,
            "align_items": null,
            "align_self": null,
            "border": null,
            "bottom": null,
            "display": null,
            "flex": null,
            "flex_flow": null,
            "grid_area": null,
            "grid_auto_columns": null,
            "grid_auto_flow": null,
            "grid_auto_rows": null,
            "grid_column": null,
            "grid_gap": null,
            "grid_row": null,
            "grid_template_areas": null,
            "grid_template_columns": null,
            "grid_template_rows": null,
            "height": null,
            "justify_content": null,
            "justify_items": null,
            "left": null,
            "margin": null,
            "max_height": null,
            "max_width": null,
            "min_height": null,
            "min_width": null,
            "object_fit": null,
            "object_position": null,
            "order": null,
            "overflow": null,
            "overflow_x": null,
            "overflow_y": null,
            "padding": null,
            "right": null,
            "top": null,
            "visibility": null,
            "width": null
          }
        },
        "b33a39aeb2ef4062b02cdbba87e6d914": {
          "model_module": "@jupyter-widgets/base",
          "model_module_version": "1.2.0",
          "model_name": "LayoutModel",
          "state": {
            "_model_module": "@jupyter-widgets/base",
            "_model_module_version": "1.2.0",
            "_model_name": "LayoutModel",
            "_view_count": null,
            "_view_module": "@jupyter-widgets/base",
            "_view_module_version": "1.2.0",
            "_view_name": "LayoutView",
            "align_content": null,
            "align_items": null,
            "align_self": null,
            "border": null,
            "bottom": null,
            "display": null,
            "flex": null,
            "flex_flow": null,
            "grid_area": null,
            "grid_auto_columns": null,
            "grid_auto_flow": null,
            "grid_auto_rows": null,
            "grid_column": null,
            "grid_gap": null,
            "grid_row": null,
            "grid_template_areas": null,
            "grid_template_columns": null,
            "grid_template_rows": null,
            "height": null,
            "justify_content": null,
            "justify_items": null,
            "left": null,
            "margin": null,
            "max_height": null,
            "max_width": null,
            "min_height": null,
            "min_width": null,
            "object_fit": null,
            "object_position": null,
            "order": null,
            "overflow": null,
            "overflow_x": null,
            "overflow_y": null,
            "padding": null,
            "right": null,
            "top": null,
            "visibility": null,
            "width": null
          }
        },
        "b6bde14832af4e35876bd28e1d9c0f8e": {
          "model_module": "@jupyter-widgets/base",
          "model_module_version": "1.2.0",
          "model_name": "LayoutModel",
          "state": {
            "_model_module": "@jupyter-widgets/base",
            "_model_module_version": "1.2.0",
            "_model_name": "LayoutModel",
            "_view_count": null,
            "_view_module": "@jupyter-widgets/base",
            "_view_module_version": "1.2.0",
            "_view_name": "LayoutView",
            "align_content": null,
            "align_items": null,
            "align_self": null,
            "border": null,
            "bottom": null,
            "display": null,
            "flex": null,
            "flex_flow": null,
            "grid_area": null,
            "grid_auto_columns": null,
            "grid_auto_flow": null,
            "grid_auto_rows": null,
            "grid_column": null,
            "grid_gap": null,
            "grid_row": null,
            "grid_template_areas": null,
            "grid_template_columns": null,
            "grid_template_rows": null,
            "height": null,
            "justify_content": null,
            "justify_items": null,
            "left": null,
            "margin": null,
            "max_height": null,
            "max_width": null,
            "min_height": null,
            "min_width": null,
            "object_fit": null,
            "object_position": null,
            "order": null,
            "overflow": null,
            "overflow_x": null,
            "overflow_y": null,
            "padding": null,
            "right": null,
            "top": null,
            "visibility": null,
            "width": null
          }
        },
        "ba7246955b804d419423d451fd8539ca": {
          "model_module": "@jupyter-widgets/controls",
          "model_module_version": "1.5.0",
          "model_name": "ProgressStyleModel",
          "state": {
            "_model_module": "@jupyter-widgets/controls",
            "_model_module_version": "1.5.0",
            "_model_name": "ProgressStyleModel",
            "_view_count": null,
            "_view_module": "@jupyter-widgets/base",
            "_view_module_version": "1.2.0",
            "_view_name": "StyleView",
            "bar_color": null,
            "description_width": ""
          }
        },
        "bbbb1149ffce46c0ab07ee4db161d736": {
          "model_module": "@jupyter-widgets/base",
          "model_module_version": "1.2.0",
          "model_name": "LayoutModel",
          "state": {
            "_model_module": "@jupyter-widgets/base",
            "_model_module_version": "1.2.0",
            "_model_name": "LayoutModel",
            "_view_count": null,
            "_view_module": "@jupyter-widgets/base",
            "_view_module_version": "1.2.0",
            "_view_name": "LayoutView",
            "align_content": null,
            "align_items": null,
            "align_self": null,
            "border": null,
            "bottom": null,
            "display": null,
            "flex": null,
            "flex_flow": null,
            "grid_area": null,
            "grid_auto_columns": null,
            "grid_auto_flow": null,
            "grid_auto_rows": null,
            "grid_column": null,
            "grid_gap": null,
            "grid_row": null,
            "grid_template_areas": null,
            "grid_template_columns": null,
            "grid_template_rows": null,
            "height": null,
            "justify_content": null,
            "justify_items": null,
            "left": null,
            "margin": null,
            "max_height": null,
            "max_width": null,
            "min_height": null,
            "min_width": null,
            "object_fit": null,
            "object_position": null,
            "order": null,
            "overflow": null,
            "overflow_x": null,
            "overflow_y": null,
            "padding": null,
            "right": null,
            "top": null,
            "visibility": null,
            "width": null
          }
        },
        "bec5c7365fee46f6bea3406203f080d4": {
          "model_module": "@jupyter-widgets/controls",
          "model_module_version": "1.5.0",
          "model_name": "FloatProgressModel",
          "state": {
            "_dom_classes": [],
            "_model_module": "@jupyter-widgets/controls",
            "_model_module_version": "1.5.0",
            "_model_name": "FloatProgressModel",
            "_view_count": null,
            "_view_module": "@jupyter-widgets/controls",
            "_view_module_version": "1.5.0",
            "_view_name": "ProgressView",
            "bar_style": "success",
            "description": "",
            "description_tooltip": null,
            "layout": "IPY_MODEL_2de4427264ad4f48b2e02b8ec64584cd",
            "max": 2,
            "min": 0,
            "orientation": "horizontal",
            "style": "IPY_MODEL_ea89241a405b4792912995d12cae957f",
            "value": 2
          }
        },
        "c20d1efd46cf40f4ae6a6e39effc74c2": {
          "model_module": "@jupyter-widgets/controls",
          "model_module_version": "1.5.0",
          "model_name": "HTMLModel",
          "state": {
            "_dom_classes": [],
            "_model_module": "@jupyter-widgets/controls",
            "_model_module_version": "1.5.0",
            "_model_name": "HTMLModel",
            "_view_count": null,
            "_view_module": "@jupyter-widgets/controls",
            "_view_module_version": "1.5.0",
            "_view_name": "HTMLView",
            "description": "",
            "description_tooltip": null,
            "layout": "IPY_MODEL_dacc071099b443a78063cdb7dc1c4843",
            "placeholder": "​",
            "style": "IPY_MODEL_8583f15a819f4b2ab5e8159c42c460b2",
            "value": "generation_config.json: 100%"
          }
        },
        "c320b24429444e71896459108c289df8": {
          "model_module": "@jupyter-widgets/controls",
          "model_module_version": "1.5.0",
          "model_name": "HTMLModel",
          "state": {
            "_dom_classes": [],
            "_model_module": "@jupyter-widgets/controls",
            "_model_module_version": "1.5.0",
            "_model_name": "HTMLModel",
            "_view_count": null,
            "_view_module": "@jupyter-widgets/controls",
            "_view_module_version": "1.5.0",
            "_view_name": "HTMLView",
            "description": "",
            "description_tooltip": null,
            "layout": "IPY_MODEL_9255cf23ee3d4a2a862f767e2bb11af2",
            "placeholder": "​",
            "style": "IPY_MODEL_71238f16ad7947d690c678f03d4201e5",
            "value": " 878/878 [00:00&lt;00:00, 54.4kB/s]"
          }
        },
        "c528b6ff71c14340a6ce600ef0f2c5e0": {
          "model_module": "@jupyter-widgets/base",
          "model_module_version": "1.2.0",
          "model_name": "LayoutModel",
          "state": {
            "_model_module": "@jupyter-widgets/base",
            "_model_module_version": "1.2.0",
            "_model_name": "LayoutModel",
            "_view_count": null,
            "_view_module": "@jupyter-widgets/base",
            "_view_module_version": "1.2.0",
            "_view_name": "LayoutView",
            "align_content": null,
            "align_items": null,
            "align_self": null,
            "border": null,
            "bottom": null,
            "display": null,
            "flex": null,
            "flex_flow": null,
            "grid_area": null,
            "grid_auto_columns": null,
            "grid_auto_flow": null,
            "grid_auto_rows": null,
            "grid_column": null,
            "grid_gap": null,
            "grid_row": null,
            "grid_template_areas": null,
            "grid_template_columns": null,
            "grid_template_rows": null,
            "height": null,
            "justify_content": null,
            "justify_items": null,
            "left": null,
            "margin": null,
            "max_height": null,
            "max_width": null,
            "min_height": null,
            "min_width": null,
            "object_fit": null,
            "object_position": null,
            "order": null,
            "overflow": null,
            "overflow_x": null,
            "overflow_y": null,
            "padding": null,
            "right": null,
            "top": null,
            "visibility": null,
            "width": null
          }
        },
        "c77188ba4bf54ed4b2bdf76459c2eba7": {
          "model_module": "@jupyter-widgets/base",
          "model_module_version": "1.2.0",
          "model_name": "LayoutModel",
          "state": {
            "_model_module": "@jupyter-widgets/base",
            "_model_module_version": "1.2.0",
            "_model_name": "LayoutModel",
            "_view_count": null,
            "_view_module": "@jupyter-widgets/base",
            "_view_module_version": "1.2.0",
            "_view_name": "LayoutView",
            "align_content": null,
            "align_items": null,
            "align_self": null,
            "border": null,
            "bottom": null,
            "display": null,
            "flex": null,
            "flex_flow": null,
            "grid_area": null,
            "grid_auto_columns": null,
            "grid_auto_flow": null,
            "grid_auto_rows": null,
            "grid_column": null,
            "grid_gap": null,
            "grid_row": null,
            "grid_template_areas": null,
            "grid_template_columns": null,
            "grid_template_rows": null,
            "height": null,
            "justify_content": null,
            "justify_items": null,
            "left": null,
            "margin": null,
            "max_height": null,
            "max_width": null,
            "min_height": null,
            "min_width": null,
            "object_fit": null,
            "object_position": null,
            "order": null,
            "overflow": null,
            "overflow_x": null,
            "overflow_y": null,
            "padding": null,
            "right": null,
            "top": null,
            "visibility": null,
            "width": null
          }
        },
        "caf122e9a26440f089b5b81615eb3711": {
          "model_module": "@jupyter-widgets/controls",
          "model_module_version": "1.5.0",
          "model_name": "DescriptionStyleModel",
          "state": {
            "_model_module": "@jupyter-widgets/controls",
            "_model_module_version": "1.5.0",
            "_model_name": "DescriptionStyleModel",
            "_view_count": null,
            "_view_module": "@jupyter-widgets/base",
            "_view_module_version": "1.2.0",
            "_view_name": "StyleView",
            "description_width": ""
          }
        },
        "cb0c82e82a0741bc93657aac4074765c": {
          "model_module": "@jupyter-widgets/base",
          "model_module_version": "1.2.0",
          "model_name": "LayoutModel",
          "state": {
            "_model_module": "@jupyter-widgets/base",
            "_model_module_version": "1.2.0",
            "_model_name": "LayoutModel",
            "_view_count": null,
            "_view_module": "@jupyter-widgets/base",
            "_view_module_version": "1.2.0",
            "_view_name": "LayoutView",
            "align_content": null,
            "align_items": null,
            "align_self": null,
            "border": null,
            "bottom": null,
            "display": null,
            "flex": null,
            "flex_flow": null,
            "grid_area": null,
            "grid_auto_columns": null,
            "grid_auto_flow": null,
            "grid_auto_rows": null,
            "grid_column": null,
            "grid_gap": null,
            "grid_row": null,
            "grid_template_areas": null,
            "grid_template_columns": null,
            "grid_template_rows": null,
            "height": null,
            "justify_content": null,
            "justify_items": null,
            "left": null,
            "margin": null,
            "max_height": null,
            "max_width": null,
            "min_height": null,
            "min_width": null,
            "object_fit": null,
            "object_position": null,
            "order": null,
            "overflow": null,
            "overflow_x": null,
            "overflow_y": null,
            "padding": null,
            "right": null,
            "top": null,
            "visibility": null,
            "width": null
          }
        },
        "cb5bbd4048af4ba78cbbc2c93f2044af": {
          "model_module": "@jupyter-widgets/controls",
          "model_module_version": "1.5.0",
          "model_name": "DescriptionStyleModel",
          "state": {
            "_model_module": "@jupyter-widgets/controls",
            "_model_module_version": "1.5.0",
            "_model_name": "DescriptionStyleModel",
            "_view_count": null,
            "_view_module": "@jupyter-widgets/base",
            "_view_module_version": "1.2.0",
            "_view_name": "StyleView",
            "description_width": ""
          }
        },
        "cbd1263566a64cc59ef5a07505ffcbaa": {
          "model_module": "@jupyter-widgets/controls",
          "model_module_version": "1.5.0",
          "model_name": "FloatProgressModel",
          "state": {
            "_dom_classes": [],
            "_model_module": "@jupyter-widgets/controls",
            "_model_module_version": "1.5.0",
            "_model_name": "FloatProgressModel",
            "_view_count": null,
            "_view_module": "@jupyter-widgets/controls",
            "_view_module_version": "1.5.0",
            "_view_name": "ProgressView",
            "bar_style": "success",
            "description": "",
            "description_tooltip": null,
            "layout": "IPY_MODEL_cb0c82e82a0741bc93657aac4074765c",
            "max": 9085657,
            "min": 0,
            "orientation": "horizontal",
            "style": "IPY_MODEL_f6c119f331494e3fad43f75c96859564",
            "value": 9085657
          }
        },
        "ccb29e9f01c241258be7185ebc3a3889": {
          "model_module": "@jupyter-widgets/controls",
          "model_module_version": "1.5.0",
          "model_name": "FloatProgressModel",
          "state": {
            "_dom_classes": [],
            "_model_module": "@jupyter-widgets/controls",
            "_model_module_version": "1.5.0",
            "_model_name": "FloatProgressModel",
            "_view_count": null,
            "_view_module": "@jupyter-widgets/controls",
            "_view_module_version": "1.5.0",
            "_view_name": "ProgressView",
            "bar_style": "success",
            "description": "",
            "description_tooltip": null,
            "layout": "IPY_MODEL_c77188ba4bf54ed4b2bdf76459c2eba7",
            "max": 296,
            "min": 0,
            "orientation": "horizontal",
            "style": "IPY_MODEL_6baa126adfe044d084c0afb73b078203",
            "value": 296
          }
        },
        "ce7dddc1c2a34b3cba734ad8f0292463": {
          "model_module": "@jupyter-widgets/controls",
          "model_module_version": "1.5.0",
          "model_name": "HTMLModel",
          "state": {
            "_dom_classes": [],
            "_model_module": "@jupyter-widgets/controls",
            "_model_module_version": "1.5.0",
            "_model_name": "HTMLModel",
            "_view_count": null,
            "_view_module": "@jupyter-widgets/controls",
            "_view_module_version": "1.5.0",
            "_view_name": "HTMLView",
            "description": "",
            "description_tooltip": null,
            "layout": "IPY_MODEL_9f21c660e24f4b8f8e5f2dae4512741e",
            "placeholder": "​",
            "style": "IPY_MODEL_4496d193928c44e8921651eedba53a3b",
            "value": "config.json: 100%"
          }
        },
        "cf1cbaace8d8432ca05fa2732a0aa5d0": {
          "model_module": "@jupyter-widgets/base",
          "model_module_version": "1.2.0",
          "model_name": "LayoutModel",
          "state": {
            "_model_module": "@jupyter-widgets/base",
            "_model_module_version": "1.2.0",
            "_model_name": "LayoutModel",
            "_view_count": null,
            "_view_module": "@jupyter-widgets/base",
            "_view_module_version": "1.2.0",
            "_view_name": "LayoutView",
            "align_content": null,
            "align_items": null,
            "align_self": null,
            "border": null,
            "bottom": null,
            "display": null,
            "flex": null,
            "flex_flow": null,
            "grid_area": null,
            "grid_auto_columns": null,
            "grid_auto_flow": null,
            "grid_auto_rows": null,
            "grid_column": null,
            "grid_gap": null,
            "grid_row": null,
            "grid_template_areas": null,
            "grid_template_columns": null,
            "grid_template_rows": null,
            "height": null,
            "justify_content": null,
            "justify_items": null,
            "left": null,
            "margin": null,
            "max_height": null,
            "max_width": null,
            "min_height": null,
            "min_width": null,
            "object_fit": null,
            "object_position": null,
            "order": null,
            "overflow": null,
            "overflow_x": null,
            "overflow_y": null,
            "padding": null,
            "right": null,
            "top": null,
            "visibility": null,
            "width": null
          }
        },
        "d46e13dba4b74461afdf5b91fdf094d0": {
          "model_module": "@jupyter-widgets/controls",
          "model_module_version": "1.5.0",
          "model_name": "DescriptionStyleModel",
          "state": {
            "_model_module": "@jupyter-widgets/controls",
            "_model_module_version": "1.5.0",
            "_model_name": "DescriptionStyleModel",
            "_view_count": null,
            "_view_module": "@jupyter-widgets/base",
            "_view_module_version": "1.2.0",
            "_view_name": "StyleView",
            "description_width": ""
          }
        },
        "d8d6b81d21324d48a087437677694763": {
          "model_module": "@jupyter-widgets/controls",
          "model_module_version": "1.5.0",
          "model_name": "ProgressStyleModel",
          "state": {
            "_model_module": "@jupyter-widgets/controls",
            "_model_module_version": "1.5.0",
            "_model_name": "ProgressStyleModel",
            "_view_count": null,
            "_view_module": "@jupyter-widgets/base",
            "_view_module_version": "1.2.0",
            "_view_name": "StyleView",
            "bar_color": null,
            "description_width": ""
          }
        },
        "dacc071099b443a78063cdb7dc1c4843": {
          "model_module": "@jupyter-widgets/base",
          "model_module_version": "1.2.0",
          "model_name": "LayoutModel",
          "state": {
            "_model_module": "@jupyter-widgets/base",
            "_model_module_version": "1.2.0",
            "_model_name": "LayoutModel",
            "_view_count": null,
            "_view_module": "@jupyter-widgets/base",
            "_view_module_version": "1.2.0",
            "_view_name": "LayoutView",
            "align_content": null,
            "align_items": null,
            "align_self": null,
            "border": null,
            "bottom": null,
            "display": null,
            "flex": null,
            "flex_flow": null,
            "grid_area": null,
            "grid_auto_columns": null,
            "grid_auto_flow": null,
            "grid_auto_rows": null,
            "grid_column": null,
            "grid_gap": null,
            "grid_row": null,
            "grid_template_areas": null,
            "grid_template_columns": null,
            "grid_template_rows": null,
            "height": null,
            "justify_content": null,
            "justify_items": null,
            "left": null,
            "margin": null,
            "max_height": null,
            "max_width": null,
            "min_height": null,
            "min_width": null,
            "object_fit": null,
            "object_position": null,
            "order": null,
            "overflow": null,
            "overflow_x": null,
            "overflow_y": null,
            "padding": null,
            "right": null,
            "top": null,
            "visibility": null,
            "width": null
          }
        },
        "dc9634b817ed4fd8a2b68eacdb9b471a": {
          "model_module": "@jupyter-widgets/base",
          "model_module_version": "1.2.0",
          "model_name": "LayoutModel",
          "state": {
            "_model_module": "@jupyter-widgets/base",
            "_model_module_version": "1.2.0",
            "_model_name": "LayoutModel",
            "_view_count": null,
            "_view_module": "@jupyter-widgets/base",
            "_view_module_version": "1.2.0",
            "_view_name": "LayoutView",
            "align_content": null,
            "align_items": null,
            "align_self": null,
            "border": null,
            "bottom": null,
            "display": null,
            "flex": null,
            "flex_flow": null,
            "grid_area": null,
            "grid_auto_columns": null,
            "grid_auto_flow": null,
            "grid_auto_rows": null,
            "grid_column": null,
            "grid_gap": null,
            "grid_row": null,
            "grid_template_areas": null,
            "grid_template_columns": null,
            "grid_template_rows": null,
            "height": null,
            "justify_content": null,
            "justify_items": null,
            "left": null,
            "margin": null,
            "max_height": null,
            "max_width": null,
            "min_height": null,
            "min_width": null,
            "object_fit": null,
            "object_position": null,
            "order": null,
            "overflow": null,
            "overflow_x": null,
            "overflow_y": null,
            "padding": null,
            "right": null,
            "top": null,
            "visibility": null,
            "width": null
          }
        },
        "e7bfa071923d4f5c8bad949edaf1ea50": {
          "model_module": "@jupyter-widgets/controls",
          "model_module_version": "1.5.0",
          "model_name": "HTMLModel",
          "state": {
            "_dom_classes": [],
            "_model_module": "@jupyter-widgets/controls",
            "_model_module_version": "1.5.0",
            "_model_name": "HTMLModel",
            "_view_count": null,
            "_view_module": "@jupyter-widgets/controls",
            "_view_module_version": "1.5.0",
            "_view_name": "HTMLView",
            "description": "",
            "description_tooltip": null,
            "layout": "IPY_MODEL_24a3773614ca492f82167fba5fddd12e",
            "placeholder": "​",
            "style": "IPY_MODEL_839e952175154904b2c759b0fa112107",
            "value": " 54.5k/54.5k [00:00&lt;00:00, 2.06MB/s]"
          }
        },
        "e9b9b87c861b456b92fa085f44fe994c": {
          "model_module": "@jupyter-widgets/base",
          "model_module_version": "1.2.0",
          "model_name": "LayoutModel",
          "state": {
            "_model_module": "@jupyter-widgets/base",
            "_model_module_version": "1.2.0",
            "_model_name": "LayoutModel",
            "_view_count": null,
            "_view_module": "@jupyter-widgets/base",
            "_view_module_version": "1.2.0",
            "_view_name": "LayoutView",
            "align_content": null,
            "align_items": null,
            "align_self": null,
            "border": null,
            "bottom": null,
            "display": null,
            "flex": null,
            "flex_flow": null,
            "grid_area": null,
            "grid_auto_columns": null,
            "grid_auto_flow": null,
            "grid_auto_rows": null,
            "grid_column": null,
            "grid_gap": null,
            "grid_row": null,
            "grid_template_areas": null,
            "grid_template_columns": null,
            "grid_template_rows": null,
            "height": null,
            "justify_content": null,
            "justify_items": null,
            "left": null,
            "margin": null,
            "max_height": null,
            "max_width": null,
            "min_height": null,
            "min_width": null,
            "object_fit": null,
            "object_position": null,
            "order": null,
            "overflow": null,
            "overflow_x": null,
            "overflow_y": null,
            "padding": null,
            "right": null,
            "top": null,
            "visibility": null,
            "width": null
          }
        },
        "ea89241a405b4792912995d12cae957f": {
          "model_module": "@jupyter-widgets/controls",
          "model_module_version": "1.5.0",
          "model_name": "ProgressStyleModel",
          "state": {
            "_model_module": "@jupyter-widgets/controls",
            "_model_module_version": "1.5.0",
            "_model_name": "ProgressStyleModel",
            "_view_count": null,
            "_view_module": "@jupyter-widgets/base",
            "_view_module_version": "1.2.0",
            "_view_name": "StyleView",
            "bar_color": null,
            "description_width": ""
          }
        },
        "eef86b2f3fa748aab96efc77bdb990b2": {
          "model_module": "@jupyter-widgets/base",
          "model_module_version": "1.2.0",
          "model_name": "LayoutModel",
          "state": {
            "_model_module": "@jupyter-widgets/base",
            "_model_module_version": "1.2.0",
            "_model_name": "LayoutModel",
            "_view_count": null,
            "_view_module": "@jupyter-widgets/base",
            "_view_module_version": "1.2.0",
            "_view_name": "LayoutView",
            "align_content": null,
            "align_items": null,
            "align_self": null,
            "border": null,
            "bottom": null,
            "display": null,
            "flex": null,
            "flex_flow": null,
            "grid_area": null,
            "grid_auto_columns": null,
            "grid_auto_flow": null,
            "grid_auto_rows": null,
            "grid_column": null,
            "grid_gap": null,
            "grid_row": null,
            "grid_template_areas": null,
            "grid_template_columns": null,
            "grid_template_rows": null,
            "height": null,
            "justify_content": null,
            "justify_items": null,
            "left": null,
            "margin": null,
            "max_height": null,
            "max_width": null,
            "min_height": null,
            "min_width": null,
            "object_fit": null,
            "object_position": null,
            "order": null,
            "overflow": null,
            "overflow_x": null,
            "overflow_y": null,
            "padding": null,
            "right": null,
            "top": null,
            "visibility": null,
            "width": null
          }
        },
        "ef21c326ec1e4117b6217f218ded6cfe": {
          "model_module": "@jupyter-widgets/controls",
          "model_module_version": "1.5.0",
          "model_name": "HBoxModel",
          "state": {
            "_dom_classes": [],
            "_model_module": "@jupyter-widgets/controls",
            "_model_module_version": "1.5.0",
            "_model_name": "HBoxModel",
            "_view_count": null,
            "_view_module": "@jupyter-widgets/controls",
            "_view_module_version": "1.5.0",
            "_view_name": "HBoxView",
            "box_style": "",
            "children": [
              "IPY_MODEL_42ac453f81374869a63aeb5551dfb366",
              "IPY_MODEL_bec5c7365fee46f6bea3406203f080d4",
              "IPY_MODEL_8be4c4a8e5944af3859e983f19ca3dec"
            ],
            "layout": "IPY_MODEL_5b568d99d2eb48018a1e8f7b1c42d3af"
          }
        },
        "f26bbe3ae8a3497994b1957693a30506": {
          "model_module": "@jupyter-widgets/controls",
          "model_module_version": "1.5.0",
          "model_name": "ProgressStyleModel",
          "state": {
            "_model_module": "@jupyter-widgets/controls",
            "_model_module_version": "1.5.0",
            "_model_name": "ProgressStyleModel",
            "_view_count": null,
            "_view_module": "@jupyter-widgets/base",
            "_view_module_version": "1.2.0",
            "_view_name": "StyleView",
            "bar_color": null,
            "description_width": ""
          }
        },
        "f6c119f331494e3fad43f75c96859564": {
          "model_module": "@jupyter-widgets/controls",
          "model_module_version": "1.5.0",
          "model_name": "ProgressStyleModel",
          "state": {
            "_model_module": "@jupyter-widgets/controls",
            "_model_module_version": "1.5.0",
            "_model_name": "ProgressStyleModel",
            "_view_count": null,
            "_view_module": "@jupyter-widgets/base",
            "_view_module_version": "1.2.0",
            "_view_name": "StyleView",
            "bar_color": null,
            "description_width": ""
          }
        },
        "f89e2e0e2b9a4495afb64bf6c8883aaf": {
          "model_module": "@jupyter-widgets/controls",
          "model_module_version": "1.5.0",
          "model_name": "HBoxModel",
          "state": {
            "_dom_classes": [],
            "_model_module": "@jupyter-widgets/controls",
            "_model_module_version": "1.5.0",
            "_model_name": "HBoxModel",
            "_view_count": null,
            "_view_module": "@jupyter-widgets/controls",
            "_view_module_version": "1.5.0",
            "_view_name": "HBoxView",
            "box_style": "",
            "children": [
              "IPY_MODEL_0c0ec95879f04236ad2681ee3e67a852",
              "IPY_MODEL_cbd1263566a64cc59ef5a07505ffcbaa",
              "IPY_MODEL_20e9c1ce66874edbafff28bf6afc8daf"
            ],
            "layout": "IPY_MODEL_af8880bba8c74f96995b38f0739bd4ac"
          }
        },
        "f8ffd300b81449189f09b2459f161787": {
          "model_module": "@jupyter-widgets/controls",
          "model_module_version": "1.5.0",
          "model_name": "DescriptionStyleModel",
          "state": {
            "_model_module": "@jupyter-widgets/controls",
            "_model_module_version": "1.5.0",
            "_model_name": "DescriptionStyleModel",
            "_view_count": null,
            "_view_module": "@jupyter-widgets/base",
            "_view_module_version": "1.2.0",
            "_view_name": "StyleView",
            "description_width": ""
          }
        },
        "f9c9f6610f944a7aa1e9e1457f95b234": {
          "model_module": "@jupyter-widgets/base",
          "model_module_version": "1.2.0",
          "model_name": "LayoutModel",
          "state": {
            "_model_module": "@jupyter-widgets/base",
            "_model_module_version": "1.2.0",
            "_model_name": "LayoutModel",
            "_view_count": null,
            "_view_module": "@jupyter-widgets/base",
            "_view_module_version": "1.2.0",
            "_view_name": "LayoutView",
            "align_content": null,
            "align_items": null,
            "align_self": null,
            "border": null,
            "bottom": null,
            "display": null,
            "flex": null,
            "flex_flow": null,
            "grid_area": null,
            "grid_auto_columns": null,
            "grid_auto_flow": null,
            "grid_auto_rows": null,
            "grid_column": null,
            "grid_gap": null,
            "grid_row": null,
            "grid_template_areas": null,
            "grid_template_columns": null,
            "grid_template_rows": null,
            "height": null,
            "justify_content": null,
            "justify_items": null,
            "left": null,
            "margin": null,
            "max_height": null,
            "max_width": null,
            "min_height": null,
            "min_width": null,
            "object_fit": null,
            "object_position": null,
            "order": null,
            "overflow": null,
            "overflow_x": null,
            "overflow_y": null,
            "padding": null,
            "right": null,
            "top": null,
            "visibility": null,
            "width": null
          }
        },
        "fdc0b10b45ff47dba930766d859e940b": {
          "model_module": "@jupyter-widgets/controls",
          "model_module_version": "1.5.0",
          "model_name": "DescriptionStyleModel",
          "state": {
            "_model_module": "@jupyter-widgets/controls",
            "_model_module_version": "1.5.0",
            "_model_name": "DescriptionStyleModel",
            "_view_count": null,
            "_view_module": "@jupyter-widgets/base",
            "_view_module_version": "1.2.0",
            "_view_name": "StyleView",
            "description_width": ""
          }
        }
      }
    }
  },
  "nbformat": 4,
  "nbformat_minor": 0
}
